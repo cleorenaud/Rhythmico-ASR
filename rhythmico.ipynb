{
 "cells": [
  {
   "cell_type": "code",
   "execution_count": 1,
   "metadata": {},
   "outputs": [],
   "source": [
    "from src.audio_processing import *\n",
    "from src.data_processing import *\n",
    "from src.ui_tools import *"
   ]
  },
  {
   "cell_type": "code",
   "execution_count": 2,
   "metadata": {},
   "outputs": [
    {
     "data": {
      "text/html": [
       "<div>\n",
       "<style scoped>\n",
       "    .dataframe tbody tr th:only-of-type {\n",
       "        vertical-align: middle;\n",
       "    }\n",
       "\n",
       "    .dataframe tbody tr th {\n",
       "        vertical-align: top;\n",
       "    }\n",
       "\n",
       "    .dataframe thead th {\n",
       "        text-align: right;\n",
       "    }\n",
       "</style>\n",
       "<table border=\"1\" class=\"dataframe\">\n",
       "  <thead>\n",
       "    <tr style=\"text-align: right;\">\n",
       "      <th></th>\n",
       "      <th>id</th>\n",
       "      <th>dateOfTest</th>\n",
       "      <th>testParameters</th>\n",
       "      <th>parametersType</th>\n",
       "      <th>testResults</th>\n",
       "      <th>testType</th>\n",
       "      <th>experimentResults</th>\n",
       "      <th>childId</th>\n",
       "      <th>evaluationResults</th>\n",
       "      <th>day</th>\n",
       "      <th>extracted_subtype</th>\n",
       "    </tr>\n",
       "  </thead>\n",
       "  <tbody>\n",
       "    <tr>\n",
       "      <th>0</th>\n",
       "      <td>2AACA972-A244-4E75-A4AD-2E052CD5A4B1</td>\n",
       "      <td>2024-04-29 06:37:20.368536+00:00</td>\n",
       "      <td>{'duration': 120.0, 'textSize': 25.0, 'nonWord...</td>\n",
       "      <td>experiment</td>\n",
       "      <td>{'recording': b'\\x00\\x00\\x00\\x1cftypM4A \\x00\\x...</td>\n",
       "      <td>readingTestNonWords</td>\n",
       "      <td>{'experimentPhase': 'preTestPhase', 'experimen...</td>\n",
       "      <td>0ED01FB8-8212-4D4A-BE3E-D6B6E591EE4E</td>\n",
       "      <td>{'wordsState': [{'Femme': 'Incorrect'}, {'Hier...</td>\n",
       "      <td>2024-04-29 00:00:00+00:00</td>\n",
       "      <td>Irréguliers_readingTestNonWords</td>\n",
       "    </tr>\n",
       "    <tr>\n",
       "      <th>1</th>\n",
       "      <td>6B905631-C4A5-4E92-97B3-B932FD8DD73F</td>\n",
       "      <td>2024-04-29 07:05:14.552932+00:00</td>\n",
       "      <td>{'duration': 80.0, 'textSize': 20.0, 'nonWordS...</td>\n",
       "      <td>experiment</td>\n",
       "      <td>{'recording': b'\\x00\\x00\\x00\\x1cftypM4A \\x00\\x...</td>\n",
       "      <td>readingTestNonWords</td>\n",
       "      <td>{'experimentPhase': 'postTestPhase', 'experime...</td>\n",
       "      <td>0ED01FB8-8212-4D4A-BE3E-D6B6E591EE4E</td>\n",
       "      <td>{'wordsState': [{'Il': 'Correct'}, {'un': 'Cor...</td>\n",
       "      <td>2024-04-29 00:00:00+00:00</td>\n",
       "      <td>LUM_readingTestNonWords</td>\n",
       "    </tr>\n",
       "    <tr>\n",
       "      <th>2</th>\n",
       "      <td>79055215-1979-42D3-9B26-B9C6DD935D83</td>\n",
       "      <td>2024-04-29 06:35:43.691463+00:00</td>\n",
       "      <td>{'duration': 80.0, 'textSelected': {'text': \"C...</td>\n",
       "      <td>experiment</td>\n",
       "      <td>{'recording': b'\\x00\\x00\\x00\\x1cftypM4A \\x00\\x...</td>\n",
       "      <td>readingTestFluencE</td>\n",
       "      <td>{'experimentPhase': 'preTestPhase', 'experimen...</td>\n",
       "      <td>0ED01FB8-8212-4D4A-BE3E-D6B6E591EE4E</td>\n",
       "      <td>{'wordsState': [{\"C'est\": 'Incorrect'}, {\"l'hi...</td>\n",
       "      <td>2024-04-29 00:00:00+00:00</td>\n",
       "      <td>None_readingTestFluencE</td>\n",
       "    </tr>\n",
       "    <tr>\n",
       "      <th>3</th>\n",
       "      <td>F639F673-A88D-49C7-AC75-5360FB939130</td>\n",
       "      <td>2024-04-29 06:51:14.092154+00:00</td>\n",
       "      <td>{'fileName': 'bell_test_data', 'duration': 120.0}</td>\n",
       "      <td>experiment</td>\n",
       "      <td>{'selectedItems': [{'positionY': 0.06677796327...</td>\n",
       "      <td>testBell</td>\n",
       "      <td>{'experimentPhase': 'preTestPhase', 'experimen...</td>\n",
       "      <td>0ED01FB8-8212-4D4A-BE3E-D6B6E591EE4E</td>\n",
       "      <td>NaN</td>\n",
       "      <td>2024-04-29 00:00:00+00:00</td>\n",
       "      <td>None_testBell</td>\n",
       "    </tr>\n",
       "    <tr>\n",
       "      <th>4</th>\n",
       "      <td>BA62E2B5-EB3A-4B6A-9B5E-7A488B5E015F</td>\n",
       "      <td>2024-04-29 06:39:15.372241+00:00</td>\n",
       "      <td>{'duration': 120.0, 'textSize': 25.0, 'nonWord...</td>\n",
       "      <td>experiment</td>\n",
       "      <td>{'recording': b'\\x00\\x00\\x00\\x1cftypM4A \\x00\\x...</td>\n",
       "      <td>readingTestNonWords</td>\n",
       "      <td>{'experimentPhase': 'preTestPhase', 'experimen...</td>\n",
       "      <td>0ED01FB8-8212-4D4A-BE3E-D6B6E591EE4E</td>\n",
       "      <td>{'wordsState': [{'Sande': 'Correct'}, {'Chon':...</td>\n",
       "      <td>2024-04-29 00:00:00+00:00</td>\n",
       "      <td>Pseudomots_readingTestNonWords</td>\n",
       "    </tr>\n",
       "  </tbody>\n",
       "</table>\n",
       "</div>"
      ],
      "text/plain": [
       "                                     id                        dateOfTest  \\\n",
       "0  2AACA972-A244-4E75-A4AD-2E052CD5A4B1  2024-04-29 06:37:20.368536+00:00   \n",
       "1  6B905631-C4A5-4E92-97B3-B932FD8DD73F  2024-04-29 07:05:14.552932+00:00   \n",
       "2  79055215-1979-42D3-9B26-B9C6DD935D83  2024-04-29 06:35:43.691463+00:00   \n",
       "3  F639F673-A88D-49C7-AC75-5360FB939130  2024-04-29 06:51:14.092154+00:00   \n",
       "4  BA62E2B5-EB3A-4B6A-9B5E-7A488B5E015F  2024-04-29 06:39:15.372241+00:00   \n",
       "\n",
       "                                      testParameters parametersType  \\\n",
       "0  {'duration': 120.0, 'textSize': 25.0, 'nonWord...     experiment   \n",
       "1  {'duration': 80.0, 'textSize': 20.0, 'nonWordS...     experiment   \n",
       "2  {'duration': 80.0, 'textSelected': {'text': \"C...     experiment   \n",
       "3  {'fileName': 'bell_test_data', 'duration': 120.0}     experiment   \n",
       "4  {'duration': 120.0, 'textSize': 25.0, 'nonWord...     experiment   \n",
       "\n",
       "                                         testResults             testType  \\\n",
       "0  {'recording': b'\\x00\\x00\\x00\\x1cftypM4A \\x00\\x...  readingTestNonWords   \n",
       "1  {'recording': b'\\x00\\x00\\x00\\x1cftypM4A \\x00\\x...  readingTestNonWords   \n",
       "2  {'recording': b'\\x00\\x00\\x00\\x1cftypM4A \\x00\\x...   readingTestFluencE   \n",
       "3  {'selectedItems': [{'positionY': 0.06677796327...             testBell   \n",
       "4  {'recording': b'\\x00\\x00\\x00\\x1cftypM4A \\x00\\x...  readingTestNonWords   \n",
       "\n",
       "                                   experimentResults  \\\n",
       "0  {'experimentPhase': 'preTestPhase', 'experimen...   \n",
       "1  {'experimentPhase': 'postTestPhase', 'experime...   \n",
       "2  {'experimentPhase': 'preTestPhase', 'experimen...   \n",
       "3  {'experimentPhase': 'preTestPhase', 'experimen...   \n",
       "4  {'experimentPhase': 'preTestPhase', 'experimen...   \n",
       "\n",
       "                                childId  \\\n",
       "0  0ED01FB8-8212-4D4A-BE3E-D6B6E591EE4E   \n",
       "1  0ED01FB8-8212-4D4A-BE3E-D6B6E591EE4E   \n",
       "2  0ED01FB8-8212-4D4A-BE3E-D6B6E591EE4E   \n",
       "3  0ED01FB8-8212-4D4A-BE3E-D6B6E591EE4E   \n",
       "4  0ED01FB8-8212-4D4A-BE3E-D6B6E591EE4E   \n",
       "\n",
       "                                   evaluationResults  \\\n",
       "0  {'wordsState': [{'Femme': 'Incorrect'}, {'Hier...   \n",
       "1  {'wordsState': [{'Il': 'Correct'}, {'un': 'Cor...   \n",
       "2  {'wordsState': [{\"C'est\": 'Incorrect'}, {\"l'hi...   \n",
       "3                                                NaN   \n",
       "4  {'wordsState': [{'Sande': 'Correct'}, {'Chon':...   \n",
       "\n",
       "                         day                extracted_subtype  \n",
       "0  2024-04-29 00:00:00+00:00  Irréguliers_readingTestNonWords  \n",
       "1  2024-04-29 00:00:00+00:00          LUM_readingTestNonWords  \n",
       "2  2024-04-29 00:00:00+00:00          None_readingTestFluencE  \n",
       "3  2024-04-29 00:00:00+00:00                    None_testBell  \n",
       "4  2024-04-29 00:00:00+00:00   Pseudomots_readingTestNonWords  "
      ]
     },
     "execution_count": 2,
     "metadata": {},
     "output_type": "execute_result"
    }
   ],
   "source": [
    "# Load the cleaned data\n",
    "data_path = 'data/df_test_cleaned.csv'\n",
    "data_cleaned = pd.read_csv(data_path)\n",
    "data_cleaned.head()"
   ]
  },
  {
   "cell_type": "code",
   "execution_count": 3,
   "metadata": {},
   "outputs": [],
   "source": [
    "# Apply conversion functions to testResults and evaluationResults columns\n",
    "data_cleaned['testResults'] = data_cleaned['testResults'].apply(lambda x: convert_str_to_dct_eval(x))\n",
    "data_cleaned['evaluationResults'] = data_cleaned['evaluationResults'].apply(lambda x: convert_str_to_dct_eval(x))"
   ]
  },
  {
   "cell_type": "code",
   "execution_count": 4,
   "metadata": {},
   "outputs": [],
   "source": [
    "# Filter out rows where 'testResults' does not contain 'recording'\n",
    "data_cleaned = data_cleaned[data_cleaned['testResults'].apply(lambda x: isinstance(x, dict) and 'recording' in x)]"
   ]
  },
  {
   "cell_type": "code",
   "execution_count": 5,
   "metadata": {},
   "outputs": [
    {
     "name": "stdout",
     "output_type": "stream",
     "text": [
      "Number of tests for readingTestNonWords: 211\n",
      "Number of tests for readingTestFluencE: 76\n",
      "Number of tests for testPhoneme: 304\n",
      "Number of tests for readingTestRAN: 96\n"
     ]
    }
   ],
   "source": [
    "# Extract unique test types\n",
    "test_types = data_cleaned['testType'].unique()\n",
    "\n",
    "# Dictionary to store the new data frames\n",
    "data_cleaned_tests = {}\n",
    "\n",
    "# Iterate over test types and create data frames dynamically\n",
    "for test_type in test_types:\n",
    "    df_name = f\"data_cleaned_{test_type}\"\n",
    "    data_cleaned_tests[df_name] = data_cleaned[data_cleaned['testType'] == test_type]\n",
    "    \n",
    "    # Print the number of rows\n",
    "    print(f\"Number of tests for {test_type}: {data_cleaned_tests[df_name].shape[0]}\")"
   ]
  },
  {
   "cell_type": "code",
   "execution_count": 6,
   "metadata": {},
   "outputs": [
    {
     "data": {
      "application/vnd.jupyter.widget-view+json": {
       "model_id": "c097c2fc9254495aa517beb3ca118aec",
       "version_major": 2,
       "version_minor": 0
      },
      "text/plain": [
       "HBox(children=(Button(description='Previous', style=ButtonStyle()), IntText(value=0, description='Index:'), Bu…"
      ]
     },
     "metadata": {},
     "output_type": "display_data"
    },
    {
     "data": {
      "application/vnd.jupyter.widget-view+json": {
       "model_id": "306b1689dc7b4a4685804cf27904bdc2",
       "version_major": 2,
       "version_minor": 0
      },
      "text/plain": [
       "Output()"
      ]
     },
     "metadata": {},
     "output_type": "display_data"
    },
    {
     "data": {
      "application/vnd.jupyter.widget-view+json": {
       "model_id": "677cbb50086c4ff7a655e0fd91839157",
       "version_major": 2,
       "version_minor": 0
      },
      "text/plain": [
       "Output()"
      ]
     },
     "metadata": {},
     "output_type": "display_data"
    }
   ],
   "source": [
    "# Extract recordings and their corresponding evaluation results (e.g., 'wordsState')\n",
    "recordings = data_cleaned[data_cleaned['testType'] == 'readingTestNonWords']['testResults'].apply(\n",
    "    lambda x: x['recording'] if 'recording' in x else None).dropna().tolist()\n",
    "\n",
    "evaluation_results = data_cleaned[data_cleaned['testType'] == 'readingTestNonWords']['evaluationResults'].apply(\n",
    "    lambda x: x['wordsState'] if 'wordsState' in x else None).dropna().tolist()\n",
    "\n",
    "# Create the interactive audio player with evaluation results\n",
    "create_audio_player_with_results(recordings, evaluation_results)"
   ]
  },
  {
   "cell_type": "code",
   "execution_count": 7,
   "metadata": {},
   "outputs": [
    {
     "data": {
      "application/vnd.jupyter.widget-view+json": {
       "model_id": "65751818b23846a09a76d50c78d5eca1",
       "version_major": 2,
       "version_minor": 0
      },
      "text/plain": [
       "HBox(children=(Button(description='Previous', style=ButtonStyle()), IntText(value=0, description='Index:'), Bu…"
      ]
     },
     "metadata": {},
     "output_type": "display_data"
    },
    {
     "data": {
      "application/vnd.jupyter.widget-view+json": {
       "model_id": "f1390de68625495abf2d0e478921b243",
       "version_major": 2,
       "version_minor": 0
      },
      "text/plain": [
       "Output()"
      ]
     },
     "metadata": {},
     "output_type": "display_data"
    },
    {
     "data": {
      "application/vnd.jupyter.widget-view+json": {
       "model_id": "cfec4a2e41c94a4980d1a13aad84ffaf",
       "version_major": 2,
       "version_minor": 0
      },
      "text/plain": [
       "Output()"
      ]
     },
     "metadata": {},
     "output_type": "display_data"
    }
   ],
   "source": [
    "# Extract recordings and their corresponding evaluation results (e.g., 'wordsState')\n",
    "recordings = data_cleaned[data_cleaned['testType'] == 'readingTestFluencE']['testResults'].apply(\n",
    "    lambda x: x['recording'] if 'recording' in x else None).dropna().tolist()\n",
    "\n",
    "evaluation_results = data_cleaned[data_cleaned['testType'] == 'readingTestFluencE']['evaluationResults'].apply(\n",
    "    lambda x: x['wordsState'] if 'wordsState' in x else None).dropna().tolist()\n",
    "\n",
    "# Create the interactive audio player with evaluation results\n",
    "create_audio_player_with_results(recordings, evaluation_results)"
   ]
  },
  {
   "cell_type": "code",
   "execution_count": 8,
   "metadata": {},
   "outputs": [
    {
     "data": {
      "application/vnd.jupyter.widget-view+json": {
       "model_id": "98c2497d9cc0433983943374bf9c1783",
       "version_major": 2,
       "version_minor": 0
      },
      "text/plain": [
       "HBox(children=(Button(description='Previous', style=ButtonStyle()), IntText(value=0, description='Index:'), Bu…"
      ]
     },
     "metadata": {},
     "output_type": "display_data"
    },
    {
     "data": {
      "application/vnd.jupyter.widget-view+json": {
       "model_id": "b155aaeb6661487896d35d6b83e9384a",
       "version_major": 2,
       "version_minor": 0
      },
      "text/plain": [
       "Output()"
      ]
     },
     "metadata": {},
     "output_type": "display_data"
    },
    {
     "data": {
      "application/vnd.jupyter.widget-view+json": {
       "model_id": "f548ce65653d478f853c5c33ac1bf5fb",
       "version_major": 2,
       "version_minor": 0
      },
      "text/plain": [
       "Output()"
      ]
     },
     "metadata": {},
     "output_type": "display_data"
    }
   ],
   "source": [
    "# Extract recordings and their corresponding evaluation results (e.g., 'wordsState')\n",
    "recordings = data_cleaned[data_cleaned['testType'] == 'testPhoneme']['testResults'].apply(\n",
    "    lambda x: x['recording'] if 'recording' in x else None).dropna().tolist()\n",
    "\n",
    "evaluation_results = data_cleaned[data_cleaned['testType'] == 'testPhoneme']['evaluationResults'].apply(\n",
    "    lambda x: x['wordsState'] if 'wordsState' in x else None).dropna().tolist()\n",
    "\n",
    "# Create the interactive audio player with evaluation results\n",
    "create_audio_player_with_results(recordings, evaluation_results)"
   ]
  },
  {
   "cell_type": "code",
   "execution_count": 9,
   "metadata": {},
   "outputs": [
    {
     "data": {
      "application/vnd.jupyter.widget-view+json": {
       "model_id": "374d5d67f6004dd5ab6785ec585f061e",
       "version_major": 2,
       "version_minor": 0
      },
      "text/plain": [
       "HBox(children=(Button(description='Previous', style=ButtonStyle()), IntText(value=0, description='Index:'), Bu…"
      ]
     },
     "metadata": {},
     "output_type": "display_data"
    },
    {
     "data": {
      "application/vnd.jupyter.widget-view+json": {
       "model_id": "5c94cb69dc644a0fa5a74554d494438c",
       "version_major": 2,
       "version_minor": 0
      },
      "text/plain": [
       "Output()"
      ]
     },
     "metadata": {},
     "output_type": "display_data"
    },
    {
     "data": {
      "application/vnd.jupyter.widget-view+json": {
       "model_id": "02a47326570046a9940024d3c8b1a1ec",
       "version_major": 2,
       "version_minor": 0
      },
      "text/plain": [
       "Output()"
      ]
     },
     "metadata": {},
     "output_type": "display_data"
    }
   ],
   "source": [
    "# Extract recordings and their corresponding evaluation results (e.g., 'wordsState')\n",
    "recordings = data_cleaned[data_cleaned['testType'] == 'readingTestRAN']['testResults'].apply(\n",
    "    lambda x: x['recording'] if 'recording' in x else None).dropna().tolist()\n",
    "\n",
    "evaluation_results = data_cleaned[data_cleaned['testType'] == 'readingTestRAN']['evaluationResults'].apply(\n",
    "    lambda x: x['wordsState'] if 'wordsState' in x else None).dropna().tolist()\n",
    "\n",
    "# Create the interactive audio player with evaluation results\n",
    "create_audio_player_with_results(recordings, evaluation_results)"
   ]
  }
 ],
 "metadata": {
  "kernelspec": {
   "display_name": "project",
   "language": "python",
   "name": "python3"
  },
  "language_info": {
   "codemirror_mode": {
    "name": "ipython",
    "version": 3
   },
   "file_extension": ".py",
   "mimetype": "text/x-python",
   "name": "python",
   "nbconvert_exporter": "python",
   "pygments_lexer": "ipython3",
   "version": "3.10.16"
  }
 },
 "nbformat": 4,
 "nbformat_minor": 2
}
