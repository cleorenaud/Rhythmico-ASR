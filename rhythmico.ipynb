{
 "cells": [
  {
   "cell_type": "code",
   "execution_count": 1,
   "metadata": {},
   "outputs": [
    {
     "name": "stderr",
     "output_type": "stream",
     "text": [
      "\n",
      "A module that was compiled using NumPy 1.x cannot be run in\n",
      "NumPy 2.2.3 as it may crash. To support both 1.x and 2.x\n",
      "versions of NumPy, modules must be compiled with NumPy 2.0.\n",
      "Some module may need to rebuild instead e.g. with 'pybind11>=2.12'.\n",
      "\n",
      "If you are a user of the module, the easiest solution will be to\n",
      "downgrade to 'numpy<2' or try to upgrade the affected module.\n",
      "We expect that some modules will need time to support NumPy 2.\n",
      "\n",
      "Traceback (most recent call last):  File \"/Users/cleo/Softwares/miniconda3/envs/project/lib/python3.10/runpy.py\", line 196, in _run_module_as_main\n",
      "    return _run_code(code, main_globals, None,\n",
      "  File \"/Users/cleo/Softwares/miniconda3/envs/project/lib/python3.10/runpy.py\", line 86, in _run_code\n",
      "    exec(code, run_globals)\n",
      "  File \"/Users/cleo/Softwares/miniconda3/envs/project/lib/python3.10/site-packages/ipykernel_launcher.py\", line 18, in <module>\n",
      "    app.launch_new_instance()\n",
      "  File \"/Users/cleo/Softwares/miniconda3/envs/project/lib/python3.10/site-packages/traitlets/config/application.py\", line 1075, in launch_instance\n",
      "    app.start()\n",
      "  File \"/Users/cleo/Softwares/miniconda3/envs/project/lib/python3.10/site-packages/ipykernel/kernelapp.py\", line 739, in start\n",
      "    self.io_loop.start()\n",
      "  File \"/Users/cleo/Softwares/miniconda3/envs/project/lib/python3.10/site-packages/tornado/platform/asyncio.py\", line 205, in start\n",
      "    self.asyncio_loop.run_forever()\n",
      "  File \"/Users/cleo/Softwares/miniconda3/envs/project/lib/python3.10/asyncio/base_events.py\", line 603, in run_forever\n",
      "    self._run_once()\n",
      "  File \"/Users/cleo/Softwares/miniconda3/envs/project/lib/python3.10/asyncio/base_events.py\", line 1909, in _run_once\n",
      "    handle._run()\n",
      "  File \"/Users/cleo/Softwares/miniconda3/envs/project/lib/python3.10/asyncio/events.py\", line 80, in _run\n",
      "    self._context.run(self._callback, *self._args)\n",
      "  File \"/Users/cleo/Softwares/miniconda3/envs/project/lib/python3.10/site-packages/ipykernel/kernelbase.py\", line 545, in dispatch_queue\n",
      "    await self.process_one()\n",
      "  File \"/Users/cleo/Softwares/miniconda3/envs/project/lib/python3.10/site-packages/ipykernel/kernelbase.py\", line 534, in process_one\n",
      "    await dispatch(*args)\n",
      "  File \"/Users/cleo/Softwares/miniconda3/envs/project/lib/python3.10/site-packages/ipykernel/kernelbase.py\", line 437, in dispatch_shell\n",
      "    await result\n",
      "  File \"/Users/cleo/Softwares/miniconda3/envs/project/lib/python3.10/site-packages/ipykernel/ipkernel.py\", line 362, in execute_request\n",
      "    await super().execute_request(stream, ident, parent)\n",
      "  File \"/Users/cleo/Softwares/miniconda3/envs/project/lib/python3.10/site-packages/ipykernel/kernelbase.py\", line 778, in execute_request\n",
      "    reply_content = await reply_content\n",
      "  File \"/Users/cleo/Softwares/miniconda3/envs/project/lib/python3.10/site-packages/ipykernel/ipkernel.py\", line 449, in do_execute\n",
      "    res = shell.run_cell(\n",
      "  File \"/Users/cleo/Softwares/miniconda3/envs/project/lib/python3.10/site-packages/ipykernel/zmqshell.py\", line 549, in run_cell\n",
      "    return super().run_cell(*args, **kwargs)\n",
      "  File \"/Users/cleo/Softwares/miniconda3/envs/project/lib/python3.10/site-packages/IPython/core/interactiveshell.py\", line 3077, in run_cell\n",
      "    result = self._run_cell(\n",
      "  File \"/Users/cleo/Softwares/miniconda3/envs/project/lib/python3.10/site-packages/IPython/core/interactiveshell.py\", line 3132, in _run_cell\n",
      "    result = runner(coro)\n",
      "  File \"/Users/cleo/Softwares/miniconda3/envs/project/lib/python3.10/site-packages/IPython/core/async_helpers.py\", line 128, in _pseudo_sync_runner\n",
      "    coro.send(None)\n",
      "  File \"/Users/cleo/Softwares/miniconda3/envs/project/lib/python3.10/site-packages/IPython/core/interactiveshell.py\", line 3336, in run_cell_async\n",
      "    has_raised = await self.run_ast_nodes(code_ast.body, cell_name,\n",
      "  File \"/Users/cleo/Softwares/miniconda3/envs/project/lib/python3.10/site-packages/IPython/core/interactiveshell.py\", line 3519, in run_ast_nodes\n",
      "    if await self.run_code(code, result, async_=asy):\n",
      "  File \"/Users/cleo/Softwares/miniconda3/envs/project/lib/python3.10/site-packages/IPython/core/interactiveshell.py\", line 3579, in run_code\n",
      "    exec(code_obj, self.user_global_ns, self.user_ns)\n",
      "  File \"/var/folders/kn/xrv1vh8j0k99dnh2mwl662xc0000gn/T/ipykernel_62942/402987978.py\", line 1, in <module>\n",
      "    from src.audio_processing import *\n",
      "  File \"/Users/cleo/EPFL/Ma2/Project/Rhythmico-ASR/src/audio_processing.py\", line 7, in <module>\n",
      "    import torchaudio\n",
      "  File \"/Users/cleo/Softwares/miniconda3/envs/project/lib/python3.10/site-packages/torchaudio/__init__.py\", line 1, in <module>\n",
      "    from . import (  # noqa: F401\n",
      "  File \"/Users/cleo/Softwares/miniconda3/envs/project/lib/python3.10/site-packages/torchaudio/_extension/__init__.py\", line 5, in <module>\n",
      "    from torchaudio._internal.module_utils import eval_env, fail_with_message, is_module_available, no_op\n",
      "  File \"/Users/cleo/Softwares/miniconda3/envs/project/lib/python3.10/site-packages/torchaudio/_internal/__init__.py\", line 4, in <module>\n",
      "    from torch.hub import download_url_to_file, load_state_dict_from_url\n",
      "  File \"/Users/cleo/Softwares/miniconda3/envs/project/lib/python3.10/site-packages/torch/__init__.py\", line 1382, in <module>\n",
      "    from .functional import *  # noqa: F403\n",
      "  File \"/Users/cleo/Softwares/miniconda3/envs/project/lib/python3.10/site-packages/torch/functional.py\", line 7, in <module>\n",
      "    import torch.nn.functional as F\n",
      "  File \"/Users/cleo/Softwares/miniconda3/envs/project/lib/python3.10/site-packages/torch/nn/__init__.py\", line 1, in <module>\n",
      "    from .modules import *  # noqa: F403\n",
      "  File \"/Users/cleo/Softwares/miniconda3/envs/project/lib/python3.10/site-packages/torch/nn/modules/__init__.py\", line 35, in <module>\n",
      "    from .transformer import TransformerEncoder, TransformerDecoder, \\\n",
      "  File \"/Users/cleo/Softwares/miniconda3/envs/project/lib/python3.10/site-packages/torch/nn/modules/transformer.py\", line 20, in <module>\n",
      "    device: torch.device = torch.device(torch._C._get_default_device()),  # torch.device('cpu'),\n",
      "/Users/cleo/Softwares/miniconda3/envs/project/lib/python3.10/site-packages/torch/nn/modules/transformer.py:20: UserWarning: Failed to initialize NumPy: _ARRAY_API not found (Triggered internally at /Users/runner/work/pytorch/pytorch/pytorch/torch/csrc/utils/tensor_numpy.cpp:84.)\n",
      "  device: torch.device = torch.device(torch._C._get_default_device()),  # torch.device('cpu'),\n"
     ]
    }
   ],
   "source": [
    "from src.audio_processing import *\n",
    "from src.data_processing import *\n",
    "from src.ui_tools import *"
   ]
  },
  {
   "cell_type": "code",
   "execution_count": 2,
   "metadata": {},
   "outputs": [
    {
     "data": {
      "text/html": [
       "<div>\n",
       "<style scoped>\n",
       "    .dataframe tbody tr th:only-of-type {\n",
       "        vertical-align: middle;\n",
       "    }\n",
       "\n",
       "    .dataframe tbody tr th {\n",
       "        vertical-align: top;\n",
       "    }\n",
       "\n",
       "    .dataframe thead th {\n",
       "        text-align: right;\n",
       "    }\n",
       "</style>\n",
       "<table border=\"1\" class=\"dataframe\">\n",
       "  <thead>\n",
       "    <tr style=\"text-align: right;\">\n",
       "      <th></th>\n",
       "      <th>id</th>\n",
       "      <th>dateOfTest</th>\n",
       "      <th>testParameters</th>\n",
       "      <th>parametersType</th>\n",
       "      <th>testResults</th>\n",
       "      <th>testType</th>\n",
       "      <th>experimentResults</th>\n",
       "      <th>childId</th>\n",
       "      <th>evaluationResults</th>\n",
       "      <th>day</th>\n",
       "      <th>extracted_subtype</th>\n",
       "    </tr>\n",
       "  </thead>\n",
       "  <tbody>\n",
       "    <tr>\n",
       "      <th>0</th>\n",
       "      <td>2AACA972-A244-4E75-A4AD-2E052CD5A4B1</td>\n",
       "      <td>2024-04-29 06:37:20.368536+00:00</td>\n",
       "      <td>{'duration': 120.0, 'textSize': 25.0, 'nonWord...</td>\n",
       "      <td>experiment</td>\n",
       "      <td>{'recording': b'\\x00\\x00\\x00\\x1cftypM4A \\x00\\x...</td>\n",
       "      <td>readingTestNonWords</td>\n",
       "      <td>{'experimentPhase': 'preTestPhase', 'experimen...</td>\n",
       "      <td>0ED01FB8-8212-4D4A-BE3E-D6B6E591EE4E</td>\n",
       "      <td>{'wordsState': [{'Femme': 'Incorrect'}, {'Hier...</td>\n",
       "      <td>2024-04-29 00:00:00+00:00</td>\n",
       "      <td>Irréguliers_readingTestNonWords</td>\n",
       "    </tr>\n",
       "    <tr>\n",
       "      <th>1</th>\n",
       "      <td>6B905631-C4A5-4E92-97B3-B932FD8DD73F</td>\n",
       "      <td>2024-04-29 07:05:14.552932+00:00</td>\n",
       "      <td>{'duration': 80.0, 'textSize': 20.0, 'nonWordS...</td>\n",
       "      <td>experiment</td>\n",
       "      <td>{'recording': b'\\x00\\x00\\x00\\x1cftypM4A \\x00\\x...</td>\n",
       "      <td>readingTestNonWords</td>\n",
       "      <td>{'experimentPhase': 'postTestPhase', 'experime...</td>\n",
       "      <td>0ED01FB8-8212-4D4A-BE3E-D6B6E591EE4E</td>\n",
       "      <td>{'wordsState': [{'Il': 'Correct'}, {'un': 'Cor...</td>\n",
       "      <td>2024-04-29 00:00:00+00:00</td>\n",
       "      <td>LUM_readingTestNonWords</td>\n",
       "    </tr>\n",
       "    <tr>\n",
       "      <th>2</th>\n",
       "      <td>79055215-1979-42D3-9B26-B9C6DD935D83</td>\n",
       "      <td>2024-04-29 06:35:43.691463+00:00</td>\n",
       "      <td>{'duration': 80.0, 'textSelected': {'text': \"C...</td>\n",
       "      <td>experiment</td>\n",
       "      <td>{'recording': b'\\x00\\x00\\x00\\x1cftypM4A \\x00\\x...</td>\n",
       "      <td>readingTestFluencE</td>\n",
       "      <td>{'experimentPhase': 'preTestPhase', 'experimen...</td>\n",
       "      <td>0ED01FB8-8212-4D4A-BE3E-D6B6E591EE4E</td>\n",
       "      <td>{'wordsState': [{\"C'est\": 'Incorrect'}, {\"l'hi...</td>\n",
       "      <td>2024-04-29 00:00:00+00:00</td>\n",
       "      <td>None_readingTestFluencE</td>\n",
       "    </tr>\n",
       "    <tr>\n",
       "      <th>3</th>\n",
       "      <td>F639F673-A88D-49C7-AC75-5360FB939130</td>\n",
       "      <td>2024-04-29 06:51:14.092154+00:00</td>\n",
       "      <td>{'fileName': 'bell_test_data', 'duration': 120.0}</td>\n",
       "      <td>experiment</td>\n",
       "      <td>{'selectedItems': [{'positionY': 0.06677796327...</td>\n",
       "      <td>testBell</td>\n",
       "      <td>{'experimentPhase': 'preTestPhase', 'experimen...</td>\n",
       "      <td>0ED01FB8-8212-4D4A-BE3E-D6B6E591EE4E</td>\n",
       "      <td>NaN</td>\n",
       "      <td>2024-04-29 00:00:00+00:00</td>\n",
       "      <td>None_testBell</td>\n",
       "    </tr>\n",
       "    <tr>\n",
       "      <th>4</th>\n",
       "      <td>BA62E2B5-EB3A-4B6A-9B5E-7A488B5E015F</td>\n",
       "      <td>2024-04-29 06:39:15.372241+00:00</td>\n",
       "      <td>{'duration': 120.0, 'textSize': 25.0, 'nonWord...</td>\n",
       "      <td>experiment</td>\n",
       "      <td>{'recording': b'\\x00\\x00\\x00\\x1cftypM4A \\x00\\x...</td>\n",
       "      <td>readingTestNonWords</td>\n",
       "      <td>{'experimentPhase': 'preTestPhase', 'experimen...</td>\n",
       "      <td>0ED01FB8-8212-4D4A-BE3E-D6B6E591EE4E</td>\n",
       "      <td>{'wordsState': [{'Sande': 'Correct'}, {'Chon':...</td>\n",
       "      <td>2024-04-29 00:00:00+00:00</td>\n",
       "      <td>Pseudomots_readingTestNonWords</td>\n",
       "    </tr>\n",
       "  </tbody>\n",
       "</table>\n",
       "</div>"
      ],
      "text/plain": [
       "                                     id                        dateOfTest  \\\n",
       "0  2AACA972-A244-4E75-A4AD-2E052CD5A4B1  2024-04-29 06:37:20.368536+00:00   \n",
       "1  6B905631-C4A5-4E92-97B3-B932FD8DD73F  2024-04-29 07:05:14.552932+00:00   \n",
       "2  79055215-1979-42D3-9B26-B9C6DD935D83  2024-04-29 06:35:43.691463+00:00   \n",
       "3  F639F673-A88D-49C7-AC75-5360FB939130  2024-04-29 06:51:14.092154+00:00   \n",
       "4  BA62E2B5-EB3A-4B6A-9B5E-7A488B5E015F  2024-04-29 06:39:15.372241+00:00   \n",
       "\n",
       "                                      testParameters parametersType  \\\n",
       "0  {'duration': 120.0, 'textSize': 25.0, 'nonWord...     experiment   \n",
       "1  {'duration': 80.0, 'textSize': 20.0, 'nonWordS...     experiment   \n",
       "2  {'duration': 80.0, 'textSelected': {'text': \"C...     experiment   \n",
       "3  {'fileName': 'bell_test_data', 'duration': 120.0}     experiment   \n",
       "4  {'duration': 120.0, 'textSize': 25.0, 'nonWord...     experiment   \n",
       "\n",
       "                                         testResults             testType  \\\n",
       "0  {'recording': b'\\x00\\x00\\x00\\x1cftypM4A \\x00\\x...  readingTestNonWords   \n",
       "1  {'recording': b'\\x00\\x00\\x00\\x1cftypM4A \\x00\\x...  readingTestNonWords   \n",
       "2  {'recording': b'\\x00\\x00\\x00\\x1cftypM4A \\x00\\x...   readingTestFluencE   \n",
       "3  {'selectedItems': [{'positionY': 0.06677796327...             testBell   \n",
       "4  {'recording': b'\\x00\\x00\\x00\\x1cftypM4A \\x00\\x...  readingTestNonWords   \n",
       "\n",
       "                                   experimentResults  \\\n",
       "0  {'experimentPhase': 'preTestPhase', 'experimen...   \n",
       "1  {'experimentPhase': 'postTestPhase', 'experime...   \n",
       "2  {'experimentPhase': 'preTestPhase', 'experimen...   \n",
       "3  {'experimentPhase': 'preTestPhase', 'experimen...   \n",
       "4  {'experimentPhase': 'preTestPhase', 'experimen...   \n",
       "\n",
       "                                childId  \\\n",
       "0  0ED01FB8-8212-4D4A-BE3E-D6B6E591EE4E   \n",
       "1  0ED01FB8-8212-4D4A-BE3E-D6B6E591EE4E   \n",
       "2  0ED01FB8-8212-4D4A-BE3E-D6B6E591EE4E   \n",
       "3  0ED01FB8-8212-4D4A-BE3E-D6B6E591EE4E   \n",
       "4  0ED01FB8-8212-4D4A-BE3E-D6B6E591EE4E   \n",
       "\n",
       "                                   evaluationResults  \\\n",
       "0  {'wordsState': [{'Femme': 'Incorrect'}, {'Hier...   \n",
       "1  {'wordsState': [{'Il': 'Correct'}, {'un': 'Cor...   \n",
       "2  {'wordsState': [{\"C'est\": 'Incorrect'}, {\"l'hi...   \n",
       "3                                                NaN   \n",
       "4  {'wordsState': [{'Sande': 'Correct'}, {'Chon':...   \n",
       "\n",
       "                         day                extracted_subtype  \n",
       "0  2024-04-29 00:00:00+00:00  Irréguliers_readingTestNonWords  \n",
       "1  2024-04-29 00:00:00+00:00          LUM_readingTestNonWords  \n",
       "2  2024-04-29 00:00:00+00:00          None_readingTestFluencE  \n",
       "3  2024-04-29 00:00:00+00:00                    None_testBell  \n",
       "4  2024-04-29 00:00:00+00:00   Pseudomots_readingTestNonWords  "
      ]
     },
     "execution_count": 2,
     "metadata": {},
     "output_type": "execute_result"
    }
   ],
   "source": [
    "# Load the cleaned data\n",
    "data_path = 'data/df_test_cleaned.csv'\n",
    "data_cleaned = pd.read_csv(data_path)\n",
    "data_cleaned.head()"
   ]
  },
  {
   "cell_type": "code",
   "execution_count": 3,
   "metadata": {},
   "outputs": [],
   "source": [
    "# Apply conversion functions to testResults and evaluationResults columns\n",
    "data_cleaned['testResults'] = data_cleaned['testResults'].apply(lambda x: convert_str_to_dct_eval(x))\n",
    "data_cleaned['evaluationResults'] = data_cleaned['evaluationResults'].apply(lambda x: convert_str_to_dct_eval(x))"
   ]
  },
  {
   "cell_type": "code",
   "execution_count": 4,
   "metadata": {},
   "outputs": [],
   "source": [
    "# Filter out rows where 'testResults' does not contain 'recording'\n",
    "data_cleaned = data_cleaned[data_cleaned['testResults'].apply(lambda x: isinstance(x, dict) and 'recording' in x)]"
   ]
  },
  {
   "cell_type": "code",
   "execution_count": 5,
   "metadata": {},
   "outputs": [
    {
     "name": "stdout",
     "output_type": "stream",
     "text": [
      "Number of tests for readingTestNonWords: 211\n",
      "Number of tests for readingTestFluencE: 76\n",
      "Number of tests for testPhoneme: 304\n",
      "Number of tests for readingTestRAN: 96\n"
     ]
    }
   ],
   "source": [
    "# Extract unique test types\n",
    "test_types = data_cleaned['testType'].unique()\n",
    "\n",
    "# Dictionary to store the new data frames\n",
    "data_cleaned_tests = {}\n",
    "\n",
    "# Iterate over test types and create data frames dynamically\n",
    "for test_type in test_types:\n",
    "    df_name = f\"data_cleaned_{test_type}\"\n",
    "    data_cleaned_tests[df_name] = data_cleaned[data_cleaned['testType'] == test_type]\n",
    "    \n",
    "    # Print the number of rows\n",
    "    print(f\"Number of tests for {test_type}: {data_cleaned_tests[df_name].shape[0]}\")"
   ]
  },
  {
   "cell_type": "code",
   "execution_count": 7,
   "metadata": {},
   "outputs": [
    {
     "data": {
      "application/vnd.jupyter.widget-view+json": {
       "model_id": "b50fbe1b0871490cbca682b3984b5091",
       "version_major": 2,
       "version_minor": 0
      },
      "text/plain": [
       "HBox(children=(Button(description='Previous', style=ButtonStyle()), IntText(value=0, description='Index:'), Bu…"
      ]
     },
     "metadata": {},
     "output_type": "display_data"
    },
    {
     "data": {
      "application/vnd.jupyter.widget-view+json": {
       "model_id": "aebda1b53eff4af894780fec363d4bc5",
       "version_major": 2,
       "version_minor": 0
      },
      "text/plain": [
       "Output()"
      ]
     },
     "metadata": {},
     "output_type": "display_data"
    },
    {
     "data": {
      "application/vnd.jupyter.widget-view+json": {
       "model_id": "6b85c497ce1347ceb806871207fb9a77",
       "version_major": 2,
       "version_minor": 0
      },
      "text/plain": [
       "Output()"
      ]
     },
     "metadata": {},
     "output_type": "display_data"
    }
   ],
   "source": [
    "# Extract recordings and their corresponding evaluation results (e.g., 'wordsState')\n",
    "recordings = data_cleaned[data_cleaned['testType'] == 'readingTestNonWords']['testResults'].apply(\n",
    "    lambda x: x['recording'] if 'recording' in x else None).dropna().tolist()\n",
    "\n",
    "evaluation_results = data_cleaned[data_cleaned['testType'] == 'readingTestNonWords']['evaluationResults'].apply(\n",
    "    lambda x: x['wordsState'] if 'wordsState' in x else None).dropna().tolist()\n",
    "\n",
    "# Create the interactive audio player with evaluation results\n",
    "create_audio_player_with_results(recordings, evaluation_results)"
   ]
  },
  {
   "cell_type": "code",
   "execution_count": 8,
   "metadata": {},
   "outputs": [
    {
     "data": {
      "application/vnd.jupyter.widget-view+json": {
       "model_id": "3e669164f832439ab18389b688897846",
       "version_major": 2,
       "version_minor": 0
      },
      "text/plain": [
       "HBox(children=(Button(description='Previous', style=ButtonStyle()), IntText(value=0, description='Index:'), Bu…"
      ]
     },
     "metadata": {},
     "output_type": "display_data"
    },
    {
     "data": {
      "application/vnd.jupyter.widget-view+json": {
       "model_id": "02e54d44ec134086a8142a97a88f1126",
       "version_major": 2,
       "version_minor": 0
      },
      "text/plain": [
       "Output()"
      ]
     },
     "metadata": {},
     "output_type": "display_data"
    },
    {
     "data": {
      "application/vnd.jupyter.widget-view+json": {
       "model_id": "da5824d166bb495b89883ea8a57b6f08",
       "version_major": 2,
       "version_minor": 0
      },
      "text/plain": [
       "Output()"
      ]
     },
     "metadata": {},
     "output_type": "display_data"
    }
   ],
   "source": [
    "# Extract recordings and their corresponding evaluation results (e.g., 'wordsState')\n",
    "recordings = data_cleaned[data_cleaned['testType'] == 'readingTestFluencE']['testResults'].apply(\n",
    "    lambda x: x['recording'] if 'recording' in x else None).dropna().tolist()\n",
    "\n",
    "evaluation_results = data_cleaned[data_cleaned['testType'] == 'readingTestFluencE']['evaluationResults'].apply(\n",
    "    lambda x: x['wordsState'] if 'wordsState' in x else None).dropna().tolist()\n",
    "\n",
    "# Create the interactive audio player with evaluation results\n",
    "create_audio_player_with_results(recordings, evaluation_results)"
   ]
  },
  {
   "cell_type": "code",
   "execution_count": 9,
   "metadata": {},
   "outputs": [
    {
     "data": {
      "application/vnd.jupyter.widget-view+json": {
       "model_id": "c137dd7dc8fe427e88d54bf4f6ef563d",
       "version_major": 2,
       "version_minor": 0
      },
      "text/plain": [
       "HBox(children=(Button(description='Previous', style=ButtonStyle()), IntText(value=0, description='Index:'), Bu…"
      ]
     },
     "metadata": {},
     "output_type": "display_data"
    },
    {
     "data": {
      "application/vnd.jupyter.widget-view+json": {
       "model_id": "b05c01e1d3f145f0a0bef1591ab80752",
       "version_major": 2,
       "version_minor": 0
      },
      "text/plain": [
       "Output()"
      ]
     },
     "metadata": {},
     "output_type": "display_data"
    },
    {
     "data": {
      "application/vnd.jupyter.widget-view+json": {
       "model_id": "5d58b0c250b84d1389b32cbfc93f3b3d",
       "version_major": 2,
       "version_minor": 0
      },
      "text/plain": [
       "Output()"
      ]
     },
     "metadata": {},
     "output_type": "display_data"
    }
   ],
   "source": [
    "# Extract recordings and their corresponding evaluation results (e.g., 'wordsState')\n",
    "recordings = data_cleaned[data_cleaned['testType'] == 'testPhoneme']['testResults'].apply(\n",
    "    lambda x: x['recording'] if 'recording' in x else None).dropna().tolist()\n",
    "\n",
    "evaluation_results = data_cleaned[data_cleaned['testType'] == 'testPhoneme']['evaluationResults'].apply(\n",
    "    lambda x: x['wordsState'] if 'wordsState' in x else None).dropna().tolist()\n",
    "\n",
    "# Create the interactive audio player with evaluation results\n",
    "create_audio_player_with_results(recordings, evaluation_results)"
   ]
  },
  {
   "cell_type": "code",
   "execution_count": 10,
   "metadata": {},
   "outputs": [
    {
     "data": {
      "application/vnd.jupyter.widget-view+json": {
       "model_id": "57e9cd4fb5b64dc0af48535e86bb0223",
       "version_major": 2,
       "version_minor": 0
      },
      "text/plain": [
       "HBox(children=(Button(description='Previous', style=ButtonStyle()), IntText(value=0, description='Index:'), Bu…"
      ]
     },
     "metadata": {},
     "output_type": "display_data"
    },
    {
     "data": {
      "application/vnd.jupyter.widget-view+json": {
       "model_id": "9605c567038e44c69bce179c6df377fa",
       "version_major": 2,
       "version_minor": 0
      },
      "text/plain": [
       "Output()"
      ]
     },
     "metadata": {},
     "output_type": "display_data"
    },
    {
     "data": {
      "application/vnd.jupyter.widget-view+json": {
       "model_id": "5038f8026a0640069a772bbadd9bcd1d",
       "version_major": 2,
       "version_minor": 0
      },
      "text/plain": [
       "Output()"
      ]
     },
     "metadata": {},
     "output_type": "display_data"
    }
   ],
   "source": [
    "# Extract recordings and their corresponding evaluation results (e.g., 'wordsState')\n",
    "recordings = data_cleaned[data_cleaned['testType'] == 'readingTestRAN']['testResults'].apply(\n",
    "    lambda x: x['recording'] if 'recording' in x else None).dropna().tolist()\n",
    "\n",
    "evaluation_results = data_cleaned[data_cleaned['testType'] == 'readingTestRAN']['evaluationResults'].apply(\n",
    "    lambda x: x['wordsState'] if 'wordsState' in x else None).dropna().tolist()\n",
    "\n",
    "# Create the interactive audio player with evaluation results\n",
    "create_audio_player_with_results(recordings, evaluation_results)"
   ]
  }
 ],
 "metadata": {
  "kernelspec": {
   "display_name": "project",
   "language": "python",
   "name": "python3"
  },
  "language_info": {
   "codemirror_mode": {
    "name": "ipython",
    "version": 3
   },
   "file_extension": ".py",
   "mimetype": "text/x-python",
   "name": "python",
   "nbconvert_exporter": "python",
   "pygments_lexer": "ipython3",
   "version": "3.10.16"
  }
 },
 "nbformat": 4,
 "nbformat_minor": 2
}
