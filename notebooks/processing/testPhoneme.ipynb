{
 "cells": [
  {
   "cell_type": "code",
   "execution_count": 1,
   "metadata": {},
   "outputs": [],
   "source": [
    "import os\n",
    "import ast\n",
    "import torch\n",
    "from transformers import AutoModelForCTC, Wav2Vec2Processor\n",
    "import numpy as np\n",
    "import pandas as pd\n",
    "import soundfile as sf\n",
    "from src.text_processing import *\n",
    "from src.data_processing import *\n",
    "from src.ui_tools import *\n",
    "from src.audio_processing import *\n",
    "\n",
    "# Add espeak's shared library directory\n",
    "os.environ['DYLD_LIBRARY_PATH'] = '/opt/homebrew/lib'"
   ]
  },
  {
   "cell_type": "code",
   "execution_count": 2,
   "metadata": {},
   "outputs": [
    {
     "name": "stderr",
     "output_type": "stream",
     "text": [
      "/var/folders/kn/xrv1vh8j0k99dnh2mwl662xc0000gn/T/ipykernel_5801/1745748040.py:9: SettingWithCopyWarning: \n",
      "A value is trying to be set on a copy of a slice from a DataFrame.\n",
      "Try using .loc[row_indexer,col_indexer] = value instead\n",
      "\n",
      "See the caveats in the documentation: https://pandas.pydata.org/pandas-docs/stable/user_guide/indexing.html#returning-a-view-versus-a-copy\n",
      "  phonemeTest_df['testResults'] = phonemeTest_df['testResults'].apply(lambda x: convert_str_to_dct_eval(x))\n",
      "/var/folders/kn/xrv1vh8j0k99dnh2mwl662xc0000gn/T/ipykernel_5801/1745748040.py:10: SettingWithCopyWarning: \n",
      "A value is trying to be set on a copy of a slice from a DataFrame.\n",
      "Try using .loc[row_indexer,col_indexer] = value instead\n",
      "\n",
      "See the caveats in the documentation: https://pandas.pydata.org/pandas-docs/stable/user_guide/indexing.html#returning-a-view-versus-a-copy\n",
      "  phonemeTest_df['evaluationResults'] = phonemeTest_df['evaluationResults'].apply(lambda x: convert_str_to_dct_eval(x))\n"
     ]
    }
   ],
   "source": [
    "# Load the cleaned data\n",
    "data_path = 'data/df_test_cleaned.csv'\n",
    "tests_df = pd.read_csv(data_path)\n",
    "\n",
    "# We only keep the rows where the testType is testPhoneme\n",
    "phonemeTest_df = tests_df[tests_df['testType'] == 'testPhoneme']\n",
    "\n",
    "# Apply conversion functions to testResults and evaluationResults columns\n",
    "phonemeTest_df['testResults'] = phonemeTest_df['testResults'].apply(lambda x: convert_str_to_dct_eval(x))\n",
    "phonemeTest_df['evaluationResults'] = phonemeTest_df['evaluationResults'].apply(lambda x: convert_str_to_dct_eval(x))"
   ]
  },
  {
   "cell_type": "code",
   "execution_count": 3,
   "metadata": {},
   "outputs": [],
   "source": [
    "save_recordings_as_wav(phonemeTest_df, output_dir='wav_files/testPhoneme', target_sample_rate=16000, channels=1)"
   ]
  },
  {
   "cell_type": "code",
   "execution_count": 4,
   "metadata": {},
   "outputs": [],
   "source": [
    "# The groundtruth labels for the deletion phoneme test\n",
    "deletion = 'vert rame lou ane reine dine lo rou li rose'\n",
    "\n",
    "# The groundtruth labels for the fusion phoneme test\n",
    "fusion = 'fa cha bou ten boi cho gué quin jin gren'"
   ]
  },
  {
   "cell_type": "code",
   "execution_count": null,
   "metadata": {},
   "outputs": [
    {
     "name": "stdout",
     "output_type": "stream",
     "text": [
      "Phonetic transcription saved to transcriptions/testPhoneme_deletion_transcriptions.csv\n",
      "Phonetic transcription saved to transcriptions/testPhoneme_fusion_transcriptions.csv\n"
     ]
    }
   ],
   "source": [
    "# If the transcription files already exist, we do nothing\n",
    "deletion_file = 'testPhoneme_deletion_transcriptions.csv'\n",
    "fusion_file = 'testPhoneme_fusion_transcriptions.csv'\n",
    "files_exist = (os.path.isfile(deletion_file) or os.path.isfile(fusion_file))\n",
    "\n",
    "if not(files_exist):\n",
    "    # We save the groundtruth labels to a csv file\n",
    "    save_phonetic_transcription_to_csv(deletion, test_type='testPhoneme', folder='transcriptions', file_name=deletion_file)\n",
    "    save_phonetic_transcription_to_csv(fusion, test_type='testPhoneme', folder='transcriptions', file_name=fusion_file)"
   ]
  },
  {
   "cell_type": "code",
   "execution_count": 6,
   "metadata": {},
   "outputs": [],
   "source": [
    "# Initialize the model and processor\n",
    "MODEL_ID = \"Cnam-LMSSC/wav2vec2-french-phonemizer\"\n",
    "model = AutoModelForCTC.from_pretrained(MODEL_ID)\n",
    "processor = Wav2Vec2Processor.from_pretrained(MODEL_ID)"
   ]
  },
  {
   "cell_type": "code",
   "execution_count": null,
   "metadata": {},
   "outputs": [
    {
     "name": "stdout",
     "output_type": "stream",
     "text": [
      "Processed and saved transcription for: testPhoneme_A80E6D01-D6C8-4E73-BCA0-77F29AF6DDB2.wav\n",
      "Processed and saved transcription for: testPhoneme_233DA148-5EF9-4177-B538-54AC75D8AF55.wav\n",
      "Processed and saved transcription for: testPhoneme_B8BB10DA-9B28-4538-BF07-35BA94AE5FE4.wav\n",
      "Processed and saved transcription for: testPhoneme_EAC0BB7F-8195-4697-8BF1-1B979D198195.wav\n",
      "Processed and saved transcription for: testPhoneme_31C2AB2C-D941-42C6-A0B3-862AEB09290D.wav\n",
      "Processed and saved transcription for: testPhoneme_1F1DE99C-28B1-494E-AE86-9BC17D80753A.wav\n",
      "Processed and saved transcription for: testPhoneme_1790F47F-D746-49C7-BD87-EADAF043A5A6.wav\n",
      "Processed and saved transcription for: testPhoneme_2095B05B-E764-436C-8B53-48A734740FF6.wav\n",
      "Processed and saved transcription for: testPhoneme_708E3AD2-8746-4218-86B2-54668105CA29.wav\n",
      "Processed and saved transcription for: testPhoneme_97AF3CF5-7048-4725-A3CA-6F6676140F15.wav\n",
      "Processed and saved transcription for: testPhoneme_2A4B2BB2-62FA-4AA6-9BD8-A672B2BC8FA4.wav\n",
      "Processed and saved transcription for: testPhoneme_AB5B9A69-EF6F-47A3-9A03-ADB549AC48BF.wav\n",
      "Processed and saved transcription for: testPhoneme_021989E7-E08B-4FE2-92A4-776EB2E0CB60.wav\n",
      "Processed and saved transcription for: testPhoneme_A124CF2C-FF86-4426-BDDF-5444F2EFDD27.wav\n",
      "Processed and saved transcription for: testPhoneme_1EA07D86-1276-4775-88D6-9C3C09FB0F6C.wav\n",
      "Processed and saved transcription for: testPhoneme_724F3630-96CB-4ACE-838C-2BD7F4DDC750.wav\n",
      "Processed and saved transcription for: testPhoneme_550CB8EB-1246-4F7F-87AD-4AE6BA097F67.wav\n",
      "Processed and saved transcription for: testPhoneme_F17BE1DB-0236-4912-951C-22099972B229.wav\n",
      "Processed and saved transcription for: testPhoneme_58AFD282-73BF-4C47-B2EC-D7E4E4751F76.wav\n",
      "Processed and saved transcription for: testPhoneme_B89A0863-CA7F-4BA1-A1D7-EB1D917ECD7F.wav\n",
      "Processed and saved transcription for: testPhoneme_E74E0468-70A6-401B-84F2-D028E7C2A50A.wav\n",
      "Processed and saved transcription for: testPhoneme_16D4DD99-53BD-43AC-83B5-E09D86FEC3A9.wav\n",
      "Processed and saved transcription for: testPhoneme_34B758E2-D862-41BB-BCD5-5B449047C617.wav\n",
      "Processed and saved transcription for: testPhoneme_C25C735A-F8BE-4D6F-90E7-A301A78961CF.wav\n",
      "Processed and saved transcription for: testPhoneme_BF0F9FA3-F553-4926-BA4A-E3157C79CBF6.wav\n",
      "Processed and saved transcription for: testPhoneme_14E99059-AF86-42C4-9EF3-0296CDE08EEF.wav\n",
      "Processed and saved transcription for: testPhoneme_60AB5E25-D217-45DA-91CB-2D8F127E4657.wav\n",
      "Processed and saved transcription for: testPhoneme_FF0FADD4-813B-40AC-9749-B8FD2A34319D.wav\n",
      "Processed and saved transcription for: testPhoneme_2D374096-CBA5-4D59-B3FD-7A80A78116BB.wav\n",
      "Processed and saved transcription for: testPhoneme_18DB4B33-ED30-4BA1-9B2A-F4FDF53E4B1D.wav\n",
      "Processed and saved transcription for: testPhoneme_CACE0B90-F8DC-4E4D-9F12-1D41E2FE2DF3.wav\n",
      "Processed and saved transcription for: testPhoneme_19F0E29C-D30B-4ABA-9EED-63E068D7730F.wav\n",
      "Processed and saved transcription for: testPhoneme_3F989843-4181-4B61-B4C6-7DD7A66D8CC3.wav\n",
      "Processed and saved transcription for: testPhoneme_F781D0D4-D0BB-4C9B-BDB7-5DC5AF5997AE.wav\n",
      "Processed and saved transcription for: testPhoneme_A175CEB0-7DD7-42A7-9362-0F1135ED12F8.wav\n",
      "Processed and saved transcription for: testPhoneme_8718E568-2D18-4C20-980A-880CFDC89139.wav\n",
      "Processed and saved transcription for: testPhoneme_4E1C71F4-B1A9-460E-A6C5-3BBB610796E5.wav\n",
      "Processed and saved transcription for: testPhoneme_55043D45-245F-4FAF-BE31-4879BCFA848E.wav\n",
      "Processed and saved transcription for: testPhoneme_21F342B4-2288-4CDE-A502-B7164D1B65A9.wav\n",
      "Processed and saved transcription for: testPhoneme_5DC5D751-07EA-46D7-85D4-FBD28F326C69.wav\n",
      "Processed and saved transcription for: testPhoneme_2FF8CA32-A5FC-4419-8842-6AC3F1116D8C.wav\n",
      "Processed and saved transcription for: testPhoneme_43217C92-CB37-462D-B619-A75882C5168E.wav\n",
      "Processed and saved transcription for: testPhoneme_0A6C7473-5EE1-40CA-AC6F-F7C6534EFEF8.wav\n",
      "Processed and saved transcription for: testPhoneme_BAADB55D-D646-43FD-8C1E-D1F2D6961459.wav\n",
      "Processed and saved transcription for: testPhoneme_AD51DE7C-EC39-4298-A0E9-47A1D80454B5.wav\n",
      "Processed and saved transcription for: testPhoneme_11CB9212-F7BE-44D7-BDB3-D85D75B86A67.wav\n",
      "Processed and saved transcription for: testPhoneme_68615A5A-005F-4A4A-8D8A-52CFEF837F6C.wav\n",
      "Processed and saved transcription for: testPhoneme_A70837C9-BCBC-411E-90A1-C7F36F8F5475.wav\n",
      "Processed and saved transcription for: testPhoneme_80F2DF66-3752-472C-97BC-D52758D7B3D6.wav\n",
      "Processed and saved transcription for: testPhoneme_8C55CF39-BD67-4820-9C41-2966D5EEE3BF.wav\n",
      "Processed and saved transcription for: testPhoneme_FC0830C6-4C3E-4423-BF64-13F385F0D6F2.wav\n",
      "Processed and saved transcription for: testPhoneme_D7125667-FBBC-4F72-ABB0-2C5B3D66B0E1.wav\n",
      "Processed and saved transcription for: testPhoneme_F3FAD40C-EB3A-4243-8DF4-D76A9B11EAC0.wav\n",
      "Processed and saved transcription for: testPhoneme_8791C552-8243-4298-B89D-3046498D3DE1.wav\n",
      "Processed and saved transcription for: testPhoneme_549CB1EB-53B0-4C36-99E4-3588B00F0B2B.wav\n",
      "Processed and saved transcription for: testPhoneme_53AF246F-2C9F-48AE-B3B2-44A8729819DE.wav\n",
      "Processed and saved transcription for: testPhoneme_3C1F481F-4F88-42A8-81B5-5D2365A61F39.wav\n",
      "Processed and saved transcription for: testPhoneme_D2043AB4-8067-477D-AC40-53F8EDE19665.wav\n",
      "Processed and saved transcription for: testPhoneme_CE0B572E-3A5B-437B-8293-656A978E5CF0.wav\n",
      "Processed and saved transcription for: testPhoneme_DD884C44-FEC0-4832-8A90-F0C79474FC4A.wav\n",
      "Processed and saved transcription for: testPhoneme_4075E6FB-C063-46CF-94F7-554618EF0A88.wav\n",
      "Processed and saved transcription for: testPhoneme_B36EF882-3656-48F3-B701-4FA137B61010.wav\n",
      "Processed and saved transcription for: testPhoneme_FCF52C26-BD9C-46EB-9AB8-BDF501AD971D.wav\n",
      "Processed and saved transcription for: testPhoneme_971CBF1F-52E4-4007-BDD8-851CEBF4F9EB.wav\n",
      "Processed and saved transcription for: testPhoneme_D428D15C-C60A-4C47-BAE1-D5F0DD4099D7.wav\n",
      "Processed and saved transcription for: testPhoneme_B4351B27-EF2D-4251-9FD7-E584801144DE.wav\n",
      "Processed and saved transcription for: testPhoneme_9EF19434-0FBA-4041-B33A-7B1A5772D9A4.wav\n",
      "Processed and saved transcription for: testPhoneme_4A297266-5875-4BEB-8600-7C08176D7000.wav\n",
      "Processed and saved transcription for: testPhoneme_0A3DB196-2280-49E8-A3A2-B82483FF3233.wav\n",
      "Processed and saved transcription for: testPhoneme_BDC4F14C-77E5-465F-A2D1-64A87D9C2973.wav\n",
      "Processed and saved transcription for: testPhoneme_4C5AB353-77B9-4D7A-B974-20389D4A4CD5.wav\n",
      "Processed and saved transcription for: testPhoneme_29292656-FA59-43C2-B243-ACEE9EE0A679.wav\n",
      "Processed and saved transcription for: testPhoneme_A8F46369-5F13-4D91-9A31-C43E37B3216C.wav\n",
      "Processed and saved transcription for: testPhoneme_2F558A1B-2C70-478B-A052-63DB5F7ACED5.wav\n",
      "Processed and saved transcription for: testPhoneme_0D578070-850C-4A0A-98CD-3BF895621800.wav\n",
      "Processed and saved transcription for: testPhoneme_A2DA3F43-DBF9-47BB-A2C0-EC6220D0B2FD.wav\n",
      "Processed and saved transcription for: testPhoneme_D530C0E8-BCC1-4AF7-B8D7-222B98EF4617.wav\n",
      "Processed and saved transcription for: testPhoneme_78619091-6FAA-4329-9ADC-211F242E2C51.wav\n",
      "Processed and saved transcription for: testPhoneme_DB6EDC48-040A-48EF-BCD8-9234822A3E82.wav\n",
      "Processed and saved transcription for: testPhoneme_59A6850F-CF62-4BA0-84BB-D965511EFC59.wav\n",
      "Processed and saved transcription for: testPhoneme_3188517D-1494-4C43-A226-4356CCC8B4BA.wav\n",
      "Processed and saved transcription for: testPhoneme_F5FE41D5-7274-495D-AE90-33A9FF7A8409.wav\n",
      "Processed and saved transcription for: testPhoneme_438DE339-68EB-47BB-8C52-2DDDD1C2C9C4.wav\n",
      "Processed and saved transcription for: testPhoneme_D987E1D8-D53F-475B-8B87-19C42FBDE89C.wav\n",
      "Processed and saved transcription for: testPhoneme_01C4B1E9-48E2-4CD2-BBC9-C547EB97D754.wav\n",
      "Processed and saved transcription for: testPhoneme_F3A41388-9FB4-438A-B3B0-5D9B447CFD2E.wav\n",
      "Processed and saved transcription for: testPhoneme_BE5F9318-5C25-41A9-9AD4-BF9CD316FE45.wav\n"
     ]
    }
   ],
   "source": [
    "# Folder containing the audio files\n",
    "audio_folder = 'wav_files/testPhoneme/'\n",
    "output_csv = 'transcriptions/testPhoneme_children.csv'\n",
    "\n",
    "# List all the .wav files in the folder\n",
    "audio_files = [f for f in os.listdir(audio_folder) if f.endswith('.wav')]\n",
    "\n",
    "# Check if the CSV file already exists to write the header only once\n",
    "file_exists = os.path.isfile(output_csv)\n",
    "\n",
    "# Open the CSV in append mode\n",
    "with open(output_csv, mode='a', encoding='utf-8', newline='') as f:\n",
    "    # CSV writer setup\n",
    "    import csv\n",
    "    writer = csv.writer(f)\n",
    "    \n",
    "    # Write header if the file doesn't exist yet\n",
    "    if not file_exists:\n",
    "        writer.writerow(['File Name', 'Phonetic Transcription'])\n",
    "    \n",
    "    # Process each file one by one\n",
    "    for audio_file in audio_files:\n",
    "        try:\n",
    "            # Load the audio file\n",
    "            audio_path = os.path.join(audio_folder, audio_file)\n",
    "            audio, sr = sf.read(audio_path)\n",
    "\n",
    "            # Ensure audio is in the correct format (mono and float32)\n",
    "            audio = np.array(audio, dtype=np.float32)\n",
    "            \n",
    "            # Preprocess the audio and prepare the inputs for the model\n",
    "            inputs = processor(audio, sampling_rate=16_000, return_tensors=\"pt\")\n",
    "\n",
    "            # Get the model's predictions\n",
    "            with torch.no_grad():\n",
    "                logits = model(**inputs).logits\n",
    "\n",
    "            # Decode the predictions to get the phonetic transcription\n",
    "            predicted_ids = torch.argmax(logits, dim=-1)\n",
    "            transcription = processor.batch_decode(predicted_ids)[0]\n",
    "\n",
    "            # Write the current result as a new line in the CSV\n",
    "            writer.writerow([audio_file, transcription])\n",
    "\n",
    "            # Optional: print progress\n",
    "            print(f\"Processed and saved transcription for: {audio_file}\")\n",
    "\n",
    "        except Exception as e:\n",
    "            print(f\"Error processing {audio_file}: {e}\")"
   ]
  }
 ],
 "metadata": {
  "kernelspec": {
   "display_name": "project",
   "language": "python",
   "name": "python3"
  },
  "language_info": {
   "codemirror_mode": {
    "name": "ipython",
    "version": 3
   },
   "file_extension": ".py",
   "mimetype": "text/x-python",
   "name": "python",
   "nbconvert_exporter": "python",
   "pygments_lexer": "ipython3",
   "version": "3.10.16"
  }
 },
 "nbformat": 4,
 "nbformat_minor": 2
}
