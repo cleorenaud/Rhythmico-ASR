{
 "cells": [
  {
   "cell_type": "code",
   "execution_count": null,
   "id": "c2292025",
   "metadata": {},
   "outputs": [],
   "source": [
    "from src.audio_processing import *\n",
    "from src.data_processing import *\n",
    "from src.wav2vec2_models import *"
   ]
  },
  {
   "cell_type": "code",
   "execution_count": 2,
   "id": "4c28bc89",
   "metadata": {},
   "outputs": [
    {
     "name": "stderr",
     "output_type": "stream",
     "text": [
      "/Users/cleo/EPFL/Ma2/Project/Rhythmico-ASR/src/data_processing.py:60: SettingWithCopyWarning: \n",
      "A value is trying to be set on a copy of a slice from a DataFrame.\n",
      "Try using .loc[row_indexer,col_indexer] = value instead\n",
      "\n",
      "See the caveats in the documentation: https://pandas.pydata.org/pandas-docs/stable/user_guide/indexing.html#returning-a-view-versus-a-copy\n",
      "  readingTest_df['testResults'] = readingTest_df['testResults'].apply(lambda x: convert_str_to_dct_eval(x))\n",
      "/Users/cleo/EPFL/Ma2/Project/Rhythmico-ASR/src/data_processing.py:61: SettingWithCopyWarning: \n",
      "A value is trying to be set on a copy of a slice from a DataFrame.\n",
      "Try using .loc[row_indexer,col_indexer] = value instead\n",
      "\n",
      "See the caveats in the documentation: https://pandas.pydata.org/pandas-docs/stable/user_guide/indexing.html#returning-a-view-versus-a-copy\n",
      "  readingTest_df['evaluationResults'] = readingTest_df['evaluationResults'].apply(lambda x: convert_str_to_dct_eval(x))\n"
     ]
    }
   ],
   "source": [
    "readingTestNonWords_df = prepare_readingTest_data(test_type='NonWords')"
   ]
  },
  {
   "cell_type": "code",
   "execution_count": 3,
   "id": "ce347348",
   "metadata": {},
   "outputs": [
    {
     "data": {
      "text/html": [
       "<div>\n",
       "<style scoped>\n",
       "    .dataframe tbody tr th:only-of-type {\n",
       "        vertical-align: middle;\n",
       "    }\n",
       "\n",
       "    .dataframe tbody tr th {\n",
       "        vertical-align: top;\n",
       "    }\n",
       "\n",
       "    .dataframe thead th {\n",
       "        text-align: right;\n",
       "    }\n",
       "</style>\n",
       "<table border=\"1\" class=\"dataframe\">\n",
       "  <thead>\n",
       "    <tr style=\"text-align: right;\">\n",
       "      <th></th>\n",
       "      <th>id</th>\n",
       "      <th>dateOfTest</th>\n",
       "      <th>testParameters</th>\n",
       "      <th>parametersType</th>\n",
       "      <th>testResults</th>\n",
       "      <th>testType</th>\n",
       "      <th>experimentResults</th>\n",
       "      <th>childId</th>\n",
       "      <th>evaluationResults</th>\n",
       "      <th>day</th>\n",
       "      <th>extracted_subtype</th>\n",
       "    </tr>\n",
       "  </thead>\n",
       "  <tbody>\n",
       "    <tr>\n",
       "      <th>0</th>\n",
       "      <td>2AACA972-A244-4E75-A4AD-2E052CD5A4B1</td>\n",
       "      <td>2024-04-29 06:37:20.368536+00:00</td>\n",
       "      <td>{'duration': 120.0, 'textSize': 25.0, 'nonWord...</td>\n",
       "      <td>experiment</td>\n",
       "      <td>{'recording': b'\\x00\\x00\\x00\\x1cftypM4A \\x00\\x...</td>\n",
       "      <td>readingTestNonWords</td>\n",
       "      <td>{'experimentPhase': 'preTestPhase', 'experimen...</td>\n",
       "      <td>0ED01FB8-8212-4D4A-BE3E-D6B6E591EE4E</td>\n",
       "      <td>{'wordsState': [{'Femme': 'Incorrect'}, {'Hier...</td>\n",
       "      <td>2024-04-29 00:00:00+00:00</td>\n",
       "      <td>Irréguliers_readingTestNonWords</td>\n",
       "    </tr>\n",
       "    <tr>\n",
       "      <th>1</th>\n",
       "      <td>6B905631-C4A5-4E92-97B3-B932FD8DD73F</td>\n",
       "      <td>2024-04-29 07:05:14.552932+00:00</td>\n",
       "      <td>{'duration': 80.0, 'textSize': 20.0, 'nonWordS...</td>\n",
       "      <td>experiment</td>\n",
       "      <td>{'recording': b'\\x00\\x00\\x00\\x1cftypM4A \\x00\\x...</td>\n",
       "      <td>readingTestNonWords</td>\n",
       "      <td>{'experimentPhase': 'postTestPhase', 'experime...</td>\n",
       "      <td>0ED01FB8-8212-4D4A-BE3E-D6B6E591EE4E</td>\n",
       "      <td>{'wordsState': [{'Il': 'Correct'}, {'un': 'Cor...</td>\n",
       "      <td>2024-04-29 00:00:00+00:00</td>\n",
       "      <td>LUM_readingTestNonWords</td>\n",
       "    </tr>\n",
       "    <tr>\n",
       "      <th>4</th>\n",
       "      <td>BA62E2B5-EB3A-4B6A-9B5E-7A488B5E015F</td>\n",
       "      <td>2024-04-29 06:39:15.372241+00:00</td>\n",
       "      <td>{'duration': 120.0, 'textSize': 25.0, 'nonWord...</td>\n",
       "      <td>experiment</td>\n",
       "      <td>{'recording': b'\\x00\\x00\\x00\\x1cftypM4A \\x00\\x...</td>\n",
       "      <td>readingTestNonWords</td>\n",
       "      <td>{'experimentPhase': 'preTestPhase', 'experimen...</td>\n",
       "      <td>0ED01FB8-8212-4D4A-BE3E-D6B6E591EE4E</td>\n",
       "      <td>{'wordsState': [{'Sande': 'Correct'}, {'Chon':...</td>\n",
       "      <td>2024-04-29 00:00:00+00:00</td>\n",
       "      <td>Pseudomots_readingTestNonWords</td>\n",
       "    </tr>\n",
       "    <tr>\n",
       "      <th>5</th>\n",
       "      <td>1A7D66B6-25FD-4969-A9B0-2E150149AE51</td>\n",
       "      <td>2024-04-29 06:38:14.809509+00:00</td>\n",
       "      <td>{'duration': 120.0, 'textSize': 25.0, 'nonWord...</td>\n",
       "      <td>experiment</td>\n",
       "      <td>{'recording': b'\\x00\\x00\\x00\\x1cftypM4A \\x00\\x...</td>\n",
       "      <td>readingTestNonWords</td>\n",
       "      <td>{'experimentPhase': 'preTestPhase', 'experimen...</td>\n",
       "      <td>0ED01FB8-8212-4D4A-BE3E-D6B6E591EE4E</td>\n",
       "      <td>{'wordsState': [{'Faute': 'Correct'}, {'Nuit':...</td>\n",
       "      <td>2024-04-29 00:00:00+00:00</td>\n",
       "      <td>Réguliers_readingTestNonWords</td>\n",
       "    </tr>\n",
       "    <tr>\n",
       "      <th>11</th>\n",
       "      <td>72D53683-BC74-4AA4-AE74-D88FEFCFB44A</td>\n",
       "      <td>2024-04-30 07:22:30.913182+00:00</td>\n",
       "      <td>{'duration': 120.0, 'textSize': 25.0, 'nonWord...</td>\n",
       "      <td>experiment</td>\n",
       "      <td>{'recording': b'\\x00\\x00\\x00\\x1cftypM4A \\x00\\x...</td>\n",
       "      <td>readingTestNonWords</td>\n",
       "      <td>{'experimentPhase': 'preTestPhase', 'experimen...</td>\n",
       "      <td>4FBDEF1E-4305-4B18-9E04-B2D9C846FB70</td>\n",
       "      <td>{'wordsState': [{'Femme': 'Incorrect'}, {'Hier...</td>\n",
       "      <td>2024-04-30 00:00:00+00:00</td>\n",
       "      <td>Irréguliers_readingTestNonWords</td>\n",
       "    </tr>\n",
       "  </tbody>\n",
       "</table>\n",
       "</div>"
      ],
      "text/plain": [
       "                                      id                        dateOfTest  \\\n",
       "0   2AACA972-A244-4E75-A4AD-2E052CD5A4B1  2024-04-29 06:37:20.368536+00:00   \n",
       "1   6B905631-C4A5-4E92-97B3-B932FD8DD73F  2024-04-29 07:05:14.552932+00:00   \n",
       "4   BA62E2B5-EB3A-4B6A-9B5E-7A488B5E015F  2024-04-29 06:39:15.372241+00:00   \n",
       "5   1A7D66B6-25FD-4969-A9B0-2E150149AE51  2024-04-29 06:38:14.809509+00:00   \n",
       "11  72D53683-BC74-4AA4-AE74-D88FEFCFB44A  2024-04-30 07:22:30.913182+00:00   \n",
       "\n",
       "                                       testParameters parametersType  \\\n",
       "0   {'duration': 120.0, 'textSize': 25.0, 'nonWord...     experiment   \n",
       "1   {'duration': 80.0, 'textSize': 20.0, 'nonWordS...     experiment   \n",
       "4   {'duration': 120.0, 'textSize': 25.0, 'nonWord...     experiment   \n",
       "5   {'duration': 120.0, 'textSize': 25.0, 'nonWord...     experiment   \n",
       "11  {'duration': 120.0, 'textSize': 25.0, 'nonWord...     experiment   \n",
       "\n",
       "                                          testResults             testType  \\\n",
       "0   {'recording': b'\\x00\\x00\\x00\\x1cftypM4A \\x00\\x...  readingTestNonWords   \n",
       "1   {'recording': b'\\x00\\x00\\x00\\x1cftypM4A \\x00\\x...  readingTestNonWords   \n",
       "4   {'recording': b'\\x00\\x00\\x00\\x1cftypM4A \\x00\\x...  readingTestNonWords   \n",
       "5   {'recording': b'\\x00\\x00\\x00\\x1cftypM4A \\x00\\x...  readingTestNonWords   \n",
       "11  {'recording': b'\\x00\\x00\\x00\\x1cftypM4A \\x00\\x...  readingTestNonWords   \n",
       "\n",
       "                                    experimentResults  \\\n",
       "0   {'experimentPhase': 'preTestPhase', 'experimen...   \n",
       "1   {'experimentPhase': 'postTestPhase', 'experime...   \n",
       "4   {'experimentPhase': 'preTestPhase', 'experimen...   \n",
       "5   {'experimentPhase': 'preTestPhase', 'experimen...   \n",
       "11  {'experimentPhase': 'preTestPhase', 'experimen...   \n",
       "\n",
       "                                 childId  \\\n",
       "0   0ED01FB8-8212-4D4A-BE3E-D6B6E591EE4E   \n",
       "1   0ED01FB8-8212-4D4A-BE3E-D6B6E591EE4E   \n",
       "4   0ED01FB8-8212-4D4A-BE3E-D6B6E591EE4E   \n",
       "5   0ED01FB8-8212-4D4A-BE3E-D6B6E591EE4E   \n",
       "11  4FBDEF1E-4305-4B18-9E04-B2D9C846FB70   \n",
       "\n",
       "                                    evaluationResults  \\\n",
       "0   {'wordsState': [{'Femme': 'Incorrect'}, {'Hier...   \n",
       "1   {'wordsState': [{'Il': 'Correct'}, {'un': 'Cor...   \n",
       "4   {'wordsState': [{'Sande': 'Correct'}, {'Chon':...   \n",
       "5   {'wordsState': [{'Faute': 'Correct'}, {'Nuit':...   \n",
       "11  {'wordsState': [{'Femme': 'Incorrect'}, {'Hier...   \n",
       "\n",
       "                          day                extracted_subtype  \n",
       "0   2024-04-29 00:00:00+00:00  Irréguliers_readingTestNonWords  \n",
       "1   2024-04-29 00:00:00+00:00          LUM_readingTestNonWords  \n",
       "4   2024-04-29 00:00:00+00:00   Pseudomots_readingTestNonWords  \n",
       "5   2024-04-29 00:00:00+00:00    Réguliers_readingTestNonWords  \n",
       "11  2024-04-30 00:00:00+00:00  Irréguliers_readingTestNonWords  "
      ]
     },
     "execution_count": 3,
     "metadata": {},
     "output_type": "execute_result"
    }
   ],
   "source": [
    "readingTestNonWords_df.head()"
   ]
  },
  {
   "cell_type": "code",
   "execution_count": null,
   "id": "bb407152",
   "metadata": {},
   "outputs": [],
   "source": [
    "# We extract the audio files and convert them to .wav format\n",
    "save_recordings_as_wav(readingTestNonWords_df, \n",
    "                       output_dir=\"wav_files/readingTestNonWords\", \n",
    "                       target_sample_rate=16000,\n",
    "                       channels=1)"
   ]
  },
  {
   "cell_type": "code",
   "execution_count": 5,
   "id": "b6d3d7a1",
   "metadata": {},
   "outputs": [
    {
     "name": "stdout",
     "output_type": "stream",
     "text": [
      "Irréguliers_readingTestNonWords\n",
      "LUM_readingTestNonWords\n",
      "Pseudomots_readingTestNonWords\n",
      "Réguliers_readingTestNonWords\n"
     ]
    }
   ],
   "source": [
    "# We print all the extractedSubtypes existing in the dataframe\n",
    "for subtype in readingTestNonWords_df['extracted_subtype'].unique():\n",
    "    print(subtype)"
   ]
  },
  {
   "cell_type": "code",
   "execution_count": 6,
   "id": "dfd8405f",
   "metadata": {},
   "outputs": [],
   "source": [
    "# We only keep tests that have subtype 'Pseudomots_readingTestNonWords' \n",
    "readingTestNonWords_df = readingTestNonWords_df[readingTestNonWords_df['extracted_subtype'] == 'Pseudomots_readingTestNonWords']"
   ]
  },
  {
   "cell_type": "code",
   "execution_count": null,
   "id": "f71de008",
   "metadata": {},
   "outputs": [],
   "source": [
    "readingTestNonWords_df.iloc[0]"
   ]
  },
  {
   "cell_type": "code",
   "execution_count": 4,
   "id": "62fed4b2",
   "metadata": {},
   "outputs": [],
   "source": [
    "tests_id = [\n",
    "    '764EF2A6-7B73-4B98-A1BD-5BA28879C7EE',\n",
    "    'BA62E2B5-EB3A-4B6A-9B5E-7A488B5E015F'\n",
    "]"
   ]
  },
  {
   "cell_type": "code",
   "execution_count": null,
   "id": "6b6e64d2",
   "metadata": {},
   "outputs": [
    {
     "name": "stdout",
     "output_type": "stream",
     "text": [
      "Filtered top-3 phoneme transcriptions saved to sample_readingTestNonWords/readingTestNonWords_764EF2A6-7B73-4B98-A1BD-5BA28879C7EE_phonemes.csv\n",
      "Filtered top-3 phoneme transcriptions saved to sample_readingTestNonWords/readingTestNonWords_BA62E2B5-EB3A-4B6A-9B5E-7A488B5E015F_phonemes.csv\n"
     ]
    }
   ],
   "source": [
    "# We generate the top-3 phoneme transcriptions for the selected tests\n",
    "top_3_phoneme_transcriptions_with_proba(folder_path='sample_readingTestNonWords', test_type='readingTestNonWords', output_folder='sample_readingTestNonWords', tests_id=tests_id)"
   ]
  },
  {
   "cell_type": "code",
   "execution_count": null,
   "id": "5fadac12",
   "metadata": {},
   "outputs": [
    {
     "data": {
      "application/vnd.jupyter.widget-view+json": {
       "model_id": "dcc2d85125c6480b962a5a4450aff264",
       "version_major": 2,
       "version_minor": 0
      },
      "text/plain": [
       "HBox(children=(Button(description='Previous', style=ButtonStyle()), IntText(value=0, description='Index:'), Bu…"
      ]
     },
     "metadata": {},
     "output_type": "display_data"
    },
    {
     "data": {
      "application/vnd.jupyter.widget-view+json": {
       "model_id": "e84f4df3869d48aaa7e42efae2929afa",
       "version_major": 2,
       "version_minor": 0
      },
      "text/plain": [
       "Output()"
      ]
     },
     "metadata": {},
     "output_type": "display_data"
    },
    {
     "data": {
      "application/vnd.jupyter.widget-view+json": {
       "model_id": "e1533018f0f74f7d9e7ad9561061b384",
       "version_major": 2,
       "version_minor": 0
      },
      "text/plain": [
       "Output()"
      ]
     },
     "metadata": {},
     "output_type": "display_data"
    }
   ],
   "source": [
    "# Extract recordings and their corresponding evaluation results (e.g., 'wordsState')\n",
    "recordings = readingTestNonWords_df['testResults'].apply(\n",
    "    lambda x: x['recording'] if 'recording' in x else None).dropna().tolist()\n",
    "\n",
    "evaluation_results = readingTestNonWords_df['evaluationResults'].apply(\n",
    "    lambda x: x['wordsState'] if 'wordsState' in x else None).dropna().tolist()\n",
    "\n",
    "# Create the interactive audio player with evaluation results\n",
    "create_audio_player_with_results(recordings, evaluation_results)"
   ]
  }
 ],
 "metadata": {
  "kernelspec": {
   "display_name": "project",
   "language": "python",
   "name": "python3"
  },
  "language_info": {
   "codemirror_mode": {
    "name": "ipython",
    "version": 3
   },
   "file_extension": ".py",
   "mimetype": "text/x-python",
   "name": "python",
   "nbconvert_exporter": "python",
   "pygments_lexer": "ipython3",
   "version": "3.10.16"
  }
 },
 "nbformat": 4,
 "nbformat_minor": 5
}
