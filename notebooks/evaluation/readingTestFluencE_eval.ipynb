{
 "cells": [
  {
   "cell_type": "code",
   "execution_count": 1,
   "metadata": {},
   "outputs": [],
   "source": [
    "import os\n",
    "import ast\n",
    "import numpy as np\n",
    "import pandas as pd\n",
    "import soundfile as sf\n",
    "from src.text_processing import *\n",
    "from src.data_processing import *\n",
    "from src.ui_tools import *\n",
    "from src.audio_processing import *\n",
    "\n",
    "# Add espeak's shared library directory\n",
    "os.environ['DYLD_LIBRARY_PATH'] = '/opt/homebrew/lib'"
   ]
  },
  {
   "cell_type": "code",
   "execution_count": 2,
   "metadata": {},
   "outputs": [],
   "source": [
    "# Load the test results data\n",
    "data_path = 'transcriptions/readingTestFluencE_children.csv'\n",
    "tests_df = pd.read_csv(data_path)"
   ]
  },
  {
   "cell_type": "code",
   "execution_count": 3,
   "metadata": {},
   "outputs": [
    {
     "data": {
      "text/html": [
       "<div>\n",
       "<style scoped>\n",
       "    .dataframe tbody tr th:only-of-type {\n",
       "        vertical-align: middle;\n",
       "    }\n",
       "\n",
       "    .dataframe tbody tr th {\n",
       "        vertical-align: top;\n",
       "    }\n",
       "\n",
       "    .dataframe thead th {\n",
       "        text-align: right;\n",
       "    }\n",
       "</style>\n",
       "<table border=\"1\" class=\"dataframe\">\n",
       "  <thead>\n",
       "    <tr style=\"text-align: right;\">\n",
       "      <th></th>\n",
       "      <th>File Name</th>\n",
       "      <th>Phonetic Transcription</th>\n",
       "    </tr>\n",
       "  </thead>\n",
       "  <tbody>\n",
       "    <tr>\n",
       "      <th>0</th>\n",
       "      <td>readingTestFluencE_098522E8-2203-425E-85E5-580...</td>\n",
       "      <td>ɑ̃sez istwaʁ də lysdy dyitie dɑ̃ yzjevvɛzɔ̃ si...</td>\n",
       "    </tr>\n",
       "    <tr>\n",
       "      <th>1</th>\n",
       "      <td>readingTestFluencE_BE04EB29-C18F-4382-8DB5-4A1...</td>\n",
       "      <td>listwaʁ dœ̃ sjø dœ̃ pødə də məsj pətiki vi dɑ̃...</td>\n",
       "    </tr>\n",
       "    <tr>\n",
       "      <th>2</th>\n",
       "      <td>readingTestFluencE_4F8CAF37-C0E2-4A9B-9E5C-F87...</td>\n",
       "      <td>sɛ litwa dy m̃dy mɔ məsø pətikiv pə vjɛ me ity...</td>\n",
       "    </tr>\n",
       "    <tr>\n",
       "      <th>3</th>\n",
       "      <td>readingTestFluencE_9620A493-0DAB-432D-A939-A6C...</td>\n",
       "      <td>lfeitɔ dəmsypi de vadɛ̃ fi lz ɑ̃sfi okœʁ dœ̃ s...</td>\n",
       "    </tr>\n",
       "    <tr>\n",
       "      <th>4</th>\n",
       "      <td>readingTestFluencE_CD57AFB2-2DA2-4106-935C-9BD...</td>\n",
       "      <td>valakpliʁavoʁi itaʁive ifoiʁ apɔtsidyp puʁviiʁ...</td>\n",
       "    </tr>\n",
       "  </tbody>\n",
       "</table>\n",
       "</div>"
      ],
      "text/plain": [
       "                                           File Name  \\\n",
       "0  readingTestFluencE_098522E8-2203-425E-85E5-580...   \n",
       "1  readingTestFluencE_BE04EB29-C18F-4382-8DB5-4A1...   \n",
       "2  readingTestFluencE_4F8CAF37-C0E2-4A9B-9E5C-F87...   \n",
       "3  readingTestFluencE_9620A493-0DAB-432D-A939-A6C...   \n",
       "4  readingTestFluencE_CD57AFB2-2DA2-4106-935C-9BD...   \n",
       "\n",
       "                              Phonetic Transcription  \n",
       "0  ɑ̃sez istwaʁ də lysdy dyitie dɑ̃ yzjevvɛzɔ̃ si...  \n",
       "1  listwaʁ dœ̃ sjø dœ̃ pødə də məsj pətiki vi dɑ̃...  \n",
       "2  sɛ litwa dy m̃dy mɔ məsø pətikiv pə vjɛ me ity...  \n",
       "3  lfeitɔ dəmsypi de vadɛ̃ fi lz ɑ̃sfi okœʁ dœ̃ s...  \n",
       "4  valakpliʁavoʁi itaʁive ifoiʁ apɔtsidyp puʁviiʁ...  "
      ]
     },
     "execution_count": 3,
     "metadata": {},
     "output_type": "execute_result"
    }
   ],
   "source": [
    "tests_df.head()"
   ]
  }
 ],
 "metadata": {
  "kernelspec": {
   "display_name": "project",
   "language": "python",
   "name": "python3"
  },
  "language_info": {
   "codemirror_mode": {
    "name": "ipython",
    "version": 3
   },
   "file_extension": ".py",
   "mimetype": "text/x-python",
   "name": "python",
   "nbconvert_exporter": "python",
   "pygments_lexer": "ipython3",
   "version": "3.10.16"
  }
 },
 "nbformat": 4,
 "nbformat_minor": 2
}
