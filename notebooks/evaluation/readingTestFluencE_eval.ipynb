{
 "cells": [
  {
   "cell_type": "code",
   "execution_count": 1,
   "metadata": {},
   "outputs": [],
   "source": [
    "import os\n",
    "import pandas as pd\n",
    "from src.test_evaluation import *"
   ]
  },
  {
   "cell_type": "code",
   "execution_count": 2,
   "metadata": {},
   "outputs": [],
   "source": [
    "# Load the test results data\n",
    "data_path = 'transcriptions/readingTestFluencE_children.csv'\n",
    "tests_df = pd.read_csv(data_path)"
   ]
  },
  {
   "cell_type": "code",
   "execution_count": 3,
   "metadata": {},
   "outputs": [],
   "source": [
    "# We extract the ground truth for the readingTestFluencE\n",
    "df = pd.read_csv('transcriptions/readingTestFluencE_transcriptions.csv')\n",
    "ground_truth = df.loc[0, 'Phonetic Transcription']"
   ]
  },
  {
   "cell_type": "code",
   "execution_count": 4,
   "metadata": {},
   "outputs": [
    {
     "data": {
      "text/html": [
       "<div>\n",
       "<style scoped>\n",
       "    .dataframe tbody tr th:only-of-type {\n",
       "        vertical-align: middle;\n",
       "    }\n",
       "\n",
       "    .dataframe tbody tr th {\n",
       "        vertical-align: top;\n",
       "    }\n",
       "\n",
       "    .dataframe thead th {\n",
       "        text-align: right;\n",
       "    }\n",
       "</style>\n",
       "<table border=\"1\" class=\"dataframe\">\n",
       "  <thead>\n",
       "    <tr style=\"text-align: right;\">\n",
       "      <th></th>\n",
       "      <th>File Name</th>\n",
       "      <th>Phonetic Transcription</th>\n",
       "    </tr>\n",
       "  </thead>\n",
       "  <tbody>\n",
       "    <tr>\n",
       "      <th>0</th>\n",
       "      <td>readingTestFluencE_098522E8-2203-425E-85E5-580...</td>\n",
       "      <td>ɑ̃sez istwaʁ də lysdy dyitie dɑ̃ yzjevvɛzɔ̃ si...</td>\n",
       "    </tr>\n",
       "    <tr>\n",
       "      <th>1</th>\n",
       "      <td>readingTestFluencE_BE04EB29-C18F-4382-8DB5-4A1...</td>\n",
       "      <td>listwaʁ dœ̃ sjø dœ̃ pødə də məsj pətiki vi dɑ̃...</td>\n",
       "    </tr>\n",
       "    <tr>\n",
       "      <th>2</th>\n",
       "      <td>readingTestFluencE_4F8CAF37-C0E2-4A9B-9E5C-F87...</td>\n",
       "      <td>sɛ litwa dy m̃dy mɔ məsø pətikiv pə vjɛ me ity...</td>\n",
       "    </tr>\n",
       "    <tr>\n",
       "      <th>3</th>\n",
       "      <td>readingTestFluencE_9620A493-0DAB-432D-A939-A6C...</td>\n",
       "      <td>lfeitɔ dəmsypi de vadɛ̃ fi lz ɑ̃sfi okœʁ dœ̃ s...</td>\n",
       "    </tr>\n",
       "    <tr>\n",
       "      <th>4</th>\n",
       "      <td>readingTestFluencE_CD57AFB2-2DA2-4106-935C-9BD...</td>\n",
       "      <td>valakpliʁavoʁi itaʁive ifoiʁ apɔtsidyp puʁviiʁ...</td>\n",
       "    </tr>\n",
       "  </tbody>\n",
       "</table>\n",
       "</div>"
      ],
      "text/plain": [
       "                                           File Name  \\\n",
       "0  readingTestFluencE_098522E8-2203-425E-85E5-580...   \n",
       "1  readingTestFluencE_BE04EB29-C18F-4382-8DB5-4A1...   \n",
       "2  readingTestFluencE_4F8CAF37-C0E2-4A9B-9E5C-F87...   \n",
       "3  readingTestFluencE_9620A493-0DAB-432D-A939-A6C...   \n",
       "4  readingTestFluencE_CD57AFB2-2DA2-4106-935C-9BD...   \n",
       "\n",
       "                              Phonetic Transcription  \n",
       "0  ɑ̃sez istwaʁ də lysdy dyitie dɑ̃ yzjevvɛzɔ̃ si...  \n",
       "1  listwaʁ dœ̃ sjø dœ̃ pødə də məsj pətiki vi dɑ̃...  \n",
       "2  sɛ litwa dy m̃dy mɔ məsø pətikiv pə vjɛ me ity...  \n",
       "3  lfeitɔ dəmsypi de vadɛ̃ fi lz ɑ̃sfi okœʁ dœ̃ s...  \n",
       "4  valakpliʁavoʁi itaʁive ifoiʁ apɔtsidyp puʁviiʁ...  "
      ]
     },
     "execution_count": 4,
     "metadata": {},
     "output_type": "execute_result"
    }
   ],
   "source": [
    "tests_df.head()"
   ]
  },
  {
   "cell_type": "code",
   "execution_count": 5,
   "metadata": {},
   "outputs": [
    {
     "name": "stdout",
     "output_type": "stream",
     "text": [
      "Child transcription: sə listwaʁ də məsø pəti ki vi dɑ̃z yn ljɛ mɛzɔ̃ sitile o kœʁ dɑ̃vjø vilaʒ la mɛzɔ̃ e dɑ̃tuʁe dɑ̃ ʒaʁdɛ̃ avɛk yn baʁeil a de k̃tɔ̃bʁ deʃu pʁize tusɔʁt də lik ʁofɔ̃daʁdɛ̃ lə bɔʁtilɔ̃ pʁlɔ̃ ʁɛstuʒuʁ pɛʁmɛ puʁpə jœʁ aʁtysdə seʃapay pys ɛ m səkuʃe pʁɛ də lapubɛ alɔ̃̃bʁ loʁɑ̃ʒe kuvɛʁt fʁide lisy sy a puse kuʁmɑ̃ i kʁoktu sə ki lyi asʃu\n",
      "Ground truth: sɛ listwaʁ də məsjø pəti ki vi dɑ̃z yn vjɛj mɛzɔ̃ sitye o kœʁ dœ̃ vjø vilaʒ la mɛzɔ̃ ɛt ɑ̃tuʁe dœ̃ ʒaʁdɛ̃ avɛk yn baʁjɛʁ il i a de kɔ̃kɔ̃bʁ de ʃu fʁize tut sɔʁt də leɡymz o fɔ̃ dy ʒaʁdɛ̃ lə pɔʁtijɔ̃ ʁɛst tuʒuʁ fɛʁme puʁ kə ʃjɛ̃ a pys nə seʃap pa ʃjɛ̃ a pysz ɛm sə kuʃe pʁɛ də la pubɛl a lɔ̃bʁ dœ̃n ɔʁɑ̃ʒe kuvɛʁ də fʁyi delisjø ʃjɛ̃ a pysz ɛ ɡuʁmɑ̃ il kʁɔk tu sə ki lyi pas su la dɑ̃ dez ɔʁɑ̃ʒ puʁi ki tɔ̃b syʁ lə sɔl de flœʁ fanez œ̃ mɔʁso də byvaʁ œ̃ ʒuʁ məsjø pəti desid də mɛtʁ ʃjɛ̃ a pys dɑ̃z yn niʃ ʃjɛ̃ a pys nɛm paz ɛtʁ ɑ̃fɛʁme il pʁefɛʁ sɑ̃dɔʁmiʁ ɑ̃ ʁəɡaʁdɑ̃ lez etwal dɑ̃ lə sjɛl tut le nyiz il abwa kɑ̃ məsjø pəti va sə kuʃe məsjø pəti desid də dɔʁmiʁ dɑ̃ lə ɡʁənje də sa ʒɔli mɛzɔ̃ puʁ pʁɑ̃dʁ œ̃ pø də ʁəpoz il nə tʁuv ply lə sɔmɛj yn nyi dɛ̃sɔmni ɔp il sot dy li e uvʁ la ɡʁɑ̃d mal ki sə tʁuv dəvɑ̃ lyi dɑ̃z œ̃ kwɛ̃ sɔ̃bʁ dy ɡʁənje e la syʁpʁiz tut sa vi kil pɑ̃sɛ sɑ̃z istwaʁ lyi ʁəvjɛ̃t ɑ̃ memwaʁ il sɔʁ le muʃwaʁ bʁɔde paʁ sa ɡʁɑ̃mɛʁ se pətit dɑ̃ də lɛ sɔ̃ po də ʃɑ̃bʁ ebʁeʃe yn tɛt də pwasɔ̃ seʃe œ̃ sak plɛ̃ də bijz yn mɔ̃tʁ ki fɛ tik tak tik tak sɔ̃ kaʁnɛ də nɔtz œ̃ bu də lasɛ sɔ̃ vjø tʁɑ̃zistɔʁ a pil sɛ fu kɔm tu se suvniʁ sə buskyl dɑ̃ sa tɛt e il nə pø ʁətniʁ se laʁm demɔsjɔ̃ sa vi nɛ pa sɑ̃z istwaʁ il sə suvjɛ̃t ɛɡzaktəmɑ̃ də la vwa dy pʁezɑ̃tatœʁ meteo lə tɑ̃ va sameljɔʁe dəmɛ̃ ɑ̃ deby də matine syʁ nɔtʁ ʁeʒjɔ̃ sjɛl ʃaʁʒe lapʁɛmidi il sə ʁapɛl le vjɛj pyblisitez aɛma e la salte sɑ̃ va ɔ̃n a tuʒuʁ bəzwɛ̃ də pəti pwa ʃe swa le pʁəmjɛʁ lymjɛʁ dy ʒuʁ penɛtʁ paʁ la pətit fənɛtʁ dy ɡʁənje il ɛt o kœʁ də se suvniʁ kɑ̃ sɔ̃ ʁevɛj sɔndʁɪŋ dʁɪŋ dʁɪŋ\n",
      "------------------------------\n",
      "Method: Exact Word Match\n",
      "Score: 11\n",
      "------------------------------\n",
      "Method: Levenshtein Word Match\n",
      "Score: 12\n",
      "------------------------------\n",
      "Method: Chunked Alignment\n",
      "Score: 2\n",
      "------------------------------\n",
      "Method: Sliding Window\n",
      "Score: 1\n",
      "------------------------------\n",
      "Method: Global Similarity\n",
      "Score: 225\n",
      "------------------------------\n"
     ]
    }
   ],
   "source": [
    "# We test the evaluation on the test with 'File Name' = 'readingTestFluencE_75A80925-F8CF-463D-AFED-5CC399848CC2.wav'\n",
    "child_transcription = tests_df[tests_df['File Name'] == 'readingTestFluencE_75A80925-F8CF-463D-AFED-5CC399848CC2.wav'].iloc[0]['Phonetic Transcription']\n",
    "\n",
    "# We print the children transcription and the ground truth\n",
    "print(f\"Child transcription: {child_transcription}\")\n",
    "print(f\"Ground truth: {ground_truth}\")\n",
    "print(\"-\" * 30)\n",
    "\n",
    "results = run_all_evaluations(ground_truth, child_transcription)\n",
    "\n",
    "for res in results:\n",
    "    print(f\"Method: {res['method']}\")\n",
    "    print(f\"Score: {res['score']}\")\n",
    "    print(\"-\" * 30)"
   ]
  },
  {
   "cell_type": "code",
   "execution_count": 6,
   "metadata": {},
   "outputs": [
    {
     "name": "stdout",
     "output_type": "stream",
     "text": [
      "Threshold: 0.6 -> Score: 7\n",
      "Threshold: 0.7 -> Score: 2\n",
      "Threshold: 0.8 -> Score: 2\n",
      "Threshold: 0.9 -> Score: 2\n"
     ]
    }
   ],
   "source": [
    "thresholds = [0.6, 0.7, 0.8, 0.9]\n",
    "\n",
    "results = compare_methods_with_different_thresholds(ground_truth, child_transcription, thresholds)\n",
    "\n",
    "# Print out the results to compare them\n",
    "for result in results:\n",
    "    print(f\"Threshold: {result['threshold']} -> Score: {result['score']}\")"
   ]
  },
  {
   "cell_type": "code",
   "execution_count": 7,
   "metadata": {},
   "outputs": [
    {
     "name": "stdout",
     "output_type": "stream",
     "text": [
      "Window Size: 3 | Threshold: 0.6 -> Score: 1\n",
      "Window Size: 3 | Threshold: 0.7 -> Score: 1\n",
      "Window Size: 3 | Threshold: 0.8 -> Score: 1\n",
      "Window Size: 3 | Threshold: 0.9 -> Score: 1\n",
      "Window Size: 4 | Threshold: 0.6 -> Score: 1\n",
      "Window Size: 4 | Threshold: 0.7 -> Score: 1\n",
      "Window Size: 4 | Threshold: 0.8 -> Score: 1\n",
      "Window Size: 4 | Threshold: 0.9 -> Score: 1\n",
      "Window Size: 5 | Threshold: 0.6 -> Score: 1\n",
      "Window Size: 5 | Threshold: 0.7 -> Score: 1\n",
      "Window Size: 5 | Threshold: 0.8 -> Score: 1\n",
      "Window Size: 5 | Threshold: 0.9 -> Score: 1\n",
      "Window Size: 6 | Threshold: 0.6 -> Score: 1\n",
      "Window Size: 6 | Threshold: 0.7 -> Score: 1\n",
      "Window Size: 6 | Threshold: 0.8 -> Score: 1\n",
      "Window Size: 6 | Threshold: 0.9 -> Score: 1\n",
      "Window Size: 7 | Threshold: 0.6 -> Score: 1\n",
      "Window Size: 7 | Threshold: 0.7 -> Score: 1\n",
      "Window Size: 7 | Threshold: 0.8 -> Score: 1\n",
      "Window Size: 7 | Threshold: 0.9 -> Score: 1\n"
     ]
    }
   ],
   "source": [
    "window_sizes = [3, 4, 5, 6, 7]\n",
    "thresholds = [0.6, 0.7, 0.8, 0.9]\n",
    "\n",
    "results = compare_methods_with_different_parameters(ground_truth, child_transcription, window_sizes, thresholds)\n",
    "\n",
    "# Print out the results to compare them\n",
    "for result in results:\n",
    "    print(f\"Window Size: {result['window_size']} | Threshold: {result['threshold']} -> Score: {result['score']}\")"
   ]
  }
 ],
 "metadata": {
  "kernelspec": {
   "display_name": "project",
   "language": "python",
   "name": "python3"
  },
  "language_info": {
   "codemirror_mode": {
    "name": "ipython",
    "version": 3
   },
   "file_extension": ".py",
   "mimetype": "text/x-python",
   "name": "python",
   "nbconvert_exporter": "python",
   "pygments_lexer": "ipython3",
   "version": "3.10.16"
  }
 },
 "nbformat": 4,
 "nbformat_minor": 2
}
