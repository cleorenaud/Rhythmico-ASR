{
 "cells": [
  {
   "cell_type": "code",
   "execution_count": 7,
   "id": "c2d9eed7",
   "metadata": {},
   "outputs": [],
   "source": [
    "from src.data_processing import *\n",
    "from src.wav2vec2_french_phonemizer import *\n",
    "from src.readingTestNonWords_eval import *\n",
    "\n",
    "from phonemizer import phonemize\n",
    "\n",
    "os.environ['DYLD_LIBRARY_PATH'] = '/opt/homebrew/lib'"
   ]
  },
  {
   "cell_type": "code",
   "execution_count": 8,
   "id": "6cfd16de",
   "metadata": {},
   "outputs": [
    {
     "name": "stderr",
     "output_type": "stream",
     "text": [
      "/Users/cleo/EPFL/Ma2/Project/Rhythmico-ASR/src/data_processing.py:60: SettingWithCopyWarning: \n",
      "A value is trying to be set on a copy of a slice from a DataFrame.\n",
      "Try using .loc[row_indexer,col_indexer] = value instead\n",
      "\n",
      "See the caveats in the documentation: https://pandas.pydata.org/pandas-docs/stable/user_guide/indexing.html#returning-a-view-versus-a-copy\n",
      "  readingTest_df['testResults'] = readingTest_df['testResults'].apply(lambda x: convert_str_to_dct_eval(x))\n",
      "/Users/cleo/EPFL/Ma2/Project/Rhythmico-ASR/src/data_processing.py:61: SettingWithCopyWarning: \n",
      "A value is trying to be set on a copy of a slice from a DataFrame.\n",
      "Try using .loc[row_indexer,col_indexer] = value instead\n",
      "\n",
      "See the caveats in the documentation: https://pandas.pydata.org/pandas-docs/stable/user_guide/indexing.html#returning-a-view-versus-a-copy\n",
      "  readingTest_df['evaluationResults'] = readingTest_df['evaluationResults'].apply(lambda x: convert_str_to_dct_eval(x))\n"
     ]
    }
   ],
   "source": [
    "# We prepare the test data for the readingTestFluencE dataset\n",
    "readingTestNonWords_df = prepare_readingTest_data(test_type='NonWords')"
   ]
  },
  {
   "cell_type": "markdown",
   "id": "bcda452c",
   "metadata": {},
   "source": [
    "## PSEUDOMOTS"
   ]
  },
  {
   "cell_type": "code",
   "execution_count": 9,
   "id": "ac9951da",
   "metadata": {},
   "outputs": [],
   "source": [
    "# We only keep tests that have subtype 'Pseudomots_readingTestNonWords' \n",
    "readingTestNonWords_df = readingTestNonWords_df[readingTestNonWords_df['extracted_subtype'] == 'Pseudomots_readingTestNonWords']"
   ]
  },
  {
   "cell_type": "code",
   "execution_count": 10,
   "id": "8af44a32",
   "metadata": {},
   "outputs": [
    {
     "data": {
      "text/plain": [
       "id                                BA62E2B5-EB3A-4B6A-9B5E-7A488B5E015F\n",
       "dateOfTest                            2024-04-29 06:39:15.372241+00:00\n",
       "testParameters       {'duration': 120.0, 'textSize': 25.0, 'nonWord...\n",
       "parametersType                                              experiment\n",
       "testResults          {'recording': b'\\x00\\x00\\x00\\x1cftypM4A \\x00\\x...\n",
       "testType                                           readingTestNonWords\n",
       "experimentResults    {'experimentPhase': 'preTestPhase', 'experimen...\n",
       "childId                           0ED01FB8-8212-4D4A-BE3E-D6B6E591EE4E\n",
       "evaluationResults    {'wordsState': [{'Sande': 'Correct'}, {'Chon':...\n",
       "day                                          2024-04-29 00:00:00+00:00\n",
       "extracted_subtype                       Pseudomots_readingTestNonWords\n",
       "Name: 4, dtype: object"
      ]
     },
     "execution_count": 10,
     "metadata": {},
     "output_type": "execute_result"
    }
   ],
   "source": [
    "readingTestNonWords_df.iloc[0]"
   ]
  },
  {
   "cell_type": "code",
   "execution_count": 4,
   "id": "6a4ddf9d",
   "metadata": {},
   "outputs": [],
   "source": [
    "tests_id = [\n",
    "    '764EF2A6-7B73-4B98-A1BD-5BA28879C7EE',\n",
    "    'BA62E2B5-EB3A-4B6A-9B5E-7A488B5E015F'\n",
    "]"
   ]
  },
  {
   "cell_type": "code",
   "execution_count": null,
   "id": "ec91ca96",
   "metadata": {},
   "outputs": [],
   "source": [
    "# We generate the top-3 phoneme transcriptions for the selected tests\n",
    "top_3_phoneme_transcriptions_with_proba(folder_path='sample_readingTestNonWords', test_type='readingTestNonWords', output_folder='sample_readingTestNonWords', tests_id=tests_id)"
   ]
  },
  {
   "cell_type": "code",
   "execution_count": 6,
   "id": "13b933ba",
   "metadata": {},
   "outputs": [
    {
     "name": "stdout",
     "output_type": "stream",
     "text": [
      "========================================\n",
      "Test ID: 764EF2A6-7B73-4B98-A1BD-5BA28879C7EE\n",
      "Detailed Evaluation:\n",
      "❌ Sande → incorrect\n",
      "✅ Chon → correct\n",
      "❌ Givor → incorrect\n",
      "❌ Bondeuse → incorrect\n",
      "❌ Sule → incorrect\n",
      "❌ Toir → incorrect\n",
      "❌ Mic → incorrect\n",
      "❌ Taubage → incorrect\n",
      "❌ Mardion → incorrect\n",
      "❌ Fudin → incorrect\n",
      "❌ Esan → incorrect\n",
      "⚠️✅ Trane → uncertain_correct\n",
      "⚠️❌ Tagin → uncertain_incorrect\n",
      "❌ Splindron → incorrect\n",
      "⚠️❌ Modan → uncertain_incorrect\n",
      "⚠️❌ Tandir → uncertain_incorrect\n",
      "❌ Taparelle → incorrect\n",
      "❌ Abindeur → incorrect\n",
      "⚠️✅ Gental → uncertain_correct\n",
      "⚠️✅ Ontage → uncertain_correct\n",
      "\n",
      "Final Score: 1/20 words read correctly.\n",
      "\n",
      "State Counts:\n",
      "incorrect: 13\n",
      "correct: 1\n",
      "uncertain_correct: 3\n",
      "uncertain_incorrect: 3\n",
      "========================================\n",
      "Test ID: BA62E2B5-EB3A-4B6A-9B5E-7A488B5E015F\n",
      "Detailed Evaluation:\n",
      "❌ Sande → incorrect\n",
      "❌ Chon → incorrect\n",
      "⚠️✅ Givor → uncertain_correct\n",
      "❌ Bondeuse → incorrect\n",
      "❌ Sule → incorrect\n",
      "❌ Toir → incorrect\n",
      "❌ Mic → incorrect\n",
      "❌ Taubage → incorrect\n",
      "❌ Mardion → incorrect\n",
      "❌ Fudin → incorrect\n",
      "⚠️✅ Esan → uncertain_correct\n",
      "❌ Trane → incorrect\n",
      "❌ Tagin → incorrect\n",
      "❌ Splindron → incorrect\n",
      "❌ Modan → incorrect\n",
      "⚠️❌ Tandir → uncertain_incorrect\n",
      "❌ Taparelle → incorrect\n",
      "❌ Abindeur → incorrect\n",
      "✅ Gental → correct\n",
      "⚠️❌ Ontage → uncertain_incorrect\n",
      "\n",
      "Final Score: 1/20 words read correctly.\n",
      "\n",
      "State Counts:\n",
      "incorrect: 15\n",
      "uncertain_correct: 2\n",
      "uncertain_incorrect: 2\n",
      "correct: 1\n"
     ]
    }
   ],
   "source": [
    "target_sentence = 'sɑ˜d ʃɔ˜ ʒivɔʁ bɔ˜døz syl twaʁ mik tobaʒ maʁdjɔ˜ fydɛ˜ ezɑ˜ tʁan taʒɛ˜ splɛ˜dʁɔ˜ mɔdɑ˜ tɑ˜diʁ tapaʁɛl abɛ˜dœʁ ʒɑ˜tal ɔ˜taʒ'\n",
    "\n",
    "# For each of the tests, we will evaluate the top 3 phoneme transcriptions\n",
    "for test_id in tests_id:\n",
    "    print(\"==\" * 20)\n",
    "    print(f\"Test ID: {test_id}\")\n",
    "\n",
    "    # We evaluate the test results for each of the tests\n",
    "    word_results = evaluate_readingTestNonWords(readingTestNonWords_df, test_id, target_sentence, detailed=True)"
   ]
  }
 ],
 "metadata": {
  "kernelspec": {
   "display_name": "project",
   "language": "python",
   "name": "python3"
  },
  "language_info": {
   "codemirror_mode": {
    "name": "ipython",
    "version": 3
   },
   "file_extension": ".py",
   "mimetype": "text/x-python",
   "name": "python",
   "nbconvert_exporter": "python",
   "pygments_lexer": "ipython3",
   "version": "3.10.16"
  }
 },
 "nbformat": 4,
 "nbformat_minor": 5
}
