{
 "cells": [
  {
   "cell_type": "code",
   "execution_count": 1,
   "metadata": {},
   "outputs": [],
   "source": [
    "import os\n",
    "import ast\n",
    "import pandas as pd\n",
    "from src.text_processing import *\n",
    "from src.data_processing import *\n",
    "from src.ui_tools import *\n",
    "from src.audio_processing import *\n",
    "\n",
    "# Add espeak's shared library directory\n",
    "os.environ['DYLD_LIBRARY_PATH'] = '/opt/homebrew/lib'"
   ]
  },
  {
   "cell_type": "code",
   "execution_count": 2,
   "metadata": {},
   "outputs": [],
   "source": [
    "# Load the cleaned data\n",
    "data_path = 'data/df_test_cleaned.csv'\n",
    "data_cleaned = pd.read_csv(data_path)\n",
    "\n",
    "# Apply conversion functions to testResults and evaluationResults columns\n",
    "data_cleaned['testResults'] = data_cleaned['testResults'].apply(lambda x: convert_str_to_dct_eval(x))\n",
    "data_cleaned['evaluationResults'] = data_cleaned['evaluationResults'].apply(lambda x: convert_str_to_dct_eval(x))"
   ]
  },
  {
   "cell_type": "code",
   "execution_count": 3,
   "metadata": {},
   "outputs": [],
   "source": [
    "# We only keep the tests of type testPhoneme\n",
    "phoneme_tests = data_cleaned[data_cleaned['testType'] == 'testPhoneme']"
   ]
  },
  {
   "cell_type": "code",
   "execution_count": 4,
   "metadata": {},
   "outputs": [
    {
     "name": "stdout",
     "output_type": "stream",
     "text": [
      "{'subtype': 'fusion', 'words': ['photo artistique', 'chien accroupi', 'bébé ourson', 'tortue enlevée', 'bel oiseau', 'cher auguste', 'gant épais', 'cousin infernal', 'gentil invité', 'grave entorse']}\n"
     ]
    }
   ],
   "source": [
    "test = phoneme_tests['testParameters'].values[1]\n",
    "\n",
    "print(test)\n",
    "# Convert string to dictionary safely\n",
    "test_dict = ast.literal_eval(test)\n",
    "\n",
    "# Now access 'textSelected' -> 'text'\n",
    "#selected_text = test_dict['textSelected']['text']"
   ]
  },
  {
   "cell_type": "code",
   "execution_count": 5,
   "metadata": {},
   "outputs": [],
   "source": [
    "# The groundtruth labels for the deletion phoneme test\n",
    "deletion = 'vert rame lou ane reine dine lo rou li rose'\n",
    "\n",
    "# The groundtruth labels for the fusion phoneme test\n",
    "fusion = 'fa cha bou ten boi cho gué quin jin gren'"
   ]
  },
  {
   "cell_type": "code",
   "execution_count": 6,
   "metadata": {},
   "outputs": [
    {
     "name": "stdout",
     "output_type": "stream",
     "text": [
      "Phonetic transcription saved to transcriptions/testPhoneme_deletion_transcriptions.csv\n",
      "Phonetic transcription saved to transcriptions/testPhoneme_fusion_transcriptions.csv\n"
     ]
    }
   ],
   "source": [
    "# We save the groundtruth labels to a csv file\n",
    "save_phonetic_transcription_to_csv(deletion, folder='transcriptions', file_name='testPhoneme_deletion_transcriptions.csv')\n",
    "save_phonetic_transcription_to_csv(fusion, folder='transcriptions', file_name='testPhoneme_fusion_transcriptions.csv')"
   ]
  }
 ],
 "metadata": {
  "kernelspec": {
   "display_name": "project",
   "language": "python",
   "name": "python3"
  },
  "language_info": {
   "codemirror_mode": {
    "name": "ipython",
    "version": 3
   },
   "file_extension": ".py",
   "mimetype": "text/x-python",
   "name": "python",
   "nbconvert_exporter": "python",
   "pygments_lexer": "ipython3",
   "version": "3.10.16"
  }
 },
 "nbformat": 4,
 "nbformat_minor": 2
}
