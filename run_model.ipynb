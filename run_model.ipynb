{
 "cells": [
  {
   "cell_type": "code",
   "execution_count": null,
   "metadata": {},
   "outputs": [],
   "source": [
    "import os\n",
    "import torch\n",
    "import torchaudio\n",
    "import soundfile as sf\n",
    "\n",
    "torchaudio.set_audio_backend(\"soundfile\")  # Force use of soundfile backend\n",
    "\n",
    "from src.wav2vec_phoneme import *"
   ]
  },
  {
   "cell_type": "code",
   "execution_count": null,
   "metadata": {},
   "outputs": [],
   "source": [
    "# Load tokenizer and model\n",
    "tokenizer, model = load_model_and_tokenizer()"
   ]
  },
  {
   "cell_type": "code",
   "execution_count": null,
   "metadata": {},
   "outputs": [],
   "source": [
    "# Folder with your test audio files\n",
    "folder_path = \"converted_wav_files\"\n",
    "\n",
    "# Process each wav file in the folder\n",
    "for filename in os.listdir(folder_path):\n",
    "    if filename.endswith(\".wav\"):\n",
    "        file_path = os.path.join(folder_path, filename)\n",
    "\n",
    "        # Load audio file\n",
    "        waveform, sample_rate = torchaudio.load(file_path)\n",
    "        \n",
    "        print(f\"Loaded {filename} with sample_rate = {sample_rate}\")  # Debugging print\n",
    "\n",
    "        if sample_rate is None:\n",
    "            print(f\"Warning: Sample rate is None for {filename}. Skipping.\")\n",
    "            continue  # Skip this file if sample rate is None\n",
    "\n",
    "        # Predict phonemes\n",
    "        phonemes = predict_phonemes(waveform, tokenizer, model)\n",
    "\n",
    "        # Print or save results\n",
    "        print(f\"File: {filename}\")\n",
    "        print(f\"Predicted Phonemes: {phonemes}\\n\")"
   ]
  }
 ],
 "metadata": {
  "kernelspec": {
   "display_name": "project",
   "language": "python",
   "name": "python3"
  },
  "language_info": {
   "codemirror_mode": {
    "name": "ipython",
    "version": 3
   },
   "file_extension": ".py",
   "mimetype": "text/x-python",
   "name": "python",
   "nbconvert_exporter": "python",
   "pygments_lexer": "ipython3",
   "version": "3.10.16"
  }
 },
 "nbformat": 4,
 "nbformat_minor": 2
}
