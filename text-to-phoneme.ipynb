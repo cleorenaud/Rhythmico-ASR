{
 "cells": [
  {
   "cell_type": "code",
   "execution_count": null,
   "metadata": {},
   "outputs": [],
   "source": [
    "import os\n",
    "import ast\n",
    "import pandas as pd\n",
    "from src.text_processing import *\n",
    "from src.data_processing import *\n",
    "\n",
    "# Add espeak's shared library directory\n",
    "os.environ['DYLD_LIBRARY_PATH'] = '/opt/homebrew/lib'"
   ]
  },
  {
   "cell_type": "code",
   "execution_count": 2,
   "metadata": {},
   "outputs": [],
   "source": [
    "# Load the cleaned data\n",
    "data_path = 'data/df_test_cleaned.csv'\n",
    "data_cleaned = pd.read_csv(data_path)\n",
    "\n",
    "# Apply conversion functions to testResults and evaluationResults columns\n",
    "data_cleaned['testResults'] = data_cleaned['testResults'].apply(lambda x: convert_str_to_dct_eval(x))\n",
    "data_cleaned['evaluationResults'] = data_cleaned['evaluationResults'].apply(lambda x: convert_str_to_dct_eval(x))\n",
    "\n",
    "# Filter out rows where 'testResults' does not contain 'recording'\n",
    "data_cleaned = data_cleaned[data_cleaned['testResults'].apply(lambda x: isinstance(x, dict) and 'recording' in x)]"
   ]
  },
  {
   "cell_type": "code",
   "execution_count": 3,
   "metadata": {},
   "outputs": [],
   "source": [
    "# ID of a readingTestFluencE used to extract the text \n",
    "test_id = '79055215-1979-42D3-9B26-B9C6DD935D83'"
   ]
  },
  {
   "cell_type": "code",
   "execution_count": null,
   "metadata": {},
   "outputs": [
    {
     "name": "stdout",
     "output_type": "stream",
     "text": [
      "{'duration': 80.0, 'textSelected': {'text': \"C'est l'histoire de Monsieur Petit qui vit dans une vieille maison située au coeur d'un vieux village. La maison est entourée d'un jardin avec une barrière ; il y a des concombres, des choux frisés, toutes sortes de légumes. Au fond du jardin, le portillon reste toujours fermé pour que Chien à Puces ne s'échappe pas. Chien à Puces aime se coucher près de la poubelle, à l'ombre d'un oranger couvert de fruits délicieux. Chien à Puces est gourmand, il croque tout ce qui lui passe sous la dent : des oranges pourries qui tombent sur le sol, des fleurs fanées, un morceau de buvard...\\n Un jour, Monsieur Petit décide de mettre Chien à Puces dans une niche. Chien à Puces n'aime pas être enfermé, il préfère s'endormir en regardant les étoiles dans le ciel. Toutes les nuits, il aboie quand Monsieur Petit va se coucher. Monsieur Petit décide de dormir dans le grenier de sa jolie maison pour prendre un peu de repos. \\n Il ne trouve plus le sommeil ! Une nuit d'insomnie, hop ! Il saute du lit et ouvre la grande malle qui se trouve devant lui, dans un coin sombre du grenier. Et là, surprise, toute sa vie, qu'il pensait sans histoire, lui revient en mémoire : \\n il sort les mouchoirs brodés par sa grand-mère, ses petites dents de lait, son pot de chambre ébréché, une tête de poisson séché, un sac plein de billes, une montre qui fait tic, tac, tic, tac, son carnet de notes, un bout de lacet, son vieux transistor à pile. C'est fou comme tous ces souvenirs se bousculent dans sa tête et il ne peut retenir ses larmes d'émotion, sa vie n'est pas sans histoire. Il se souvient exactement de la voix du présentateur météo : « Le temps va s'améliorer demain en début de matinée sur notre région, ciel chargé, l'après-midi », il se rappelle les vieilles publicités : « AMA et la saleté s'en va », « On a toujours besoin de petits pois chez soi ». \\n Les premières lumières du jour pénètrent par la petite fenêtre du grenier. Il est au coeur de ses souvenirs, quand son réveil sonne : dring, dring, dring.\", 'title': 'Monsieur Petit'}, 'textSize': 25.0}\n",
      "<class 'str'>\n",
      "C'est l'histoire de Monsieur Petit qui vit dans une vieille maison située au coeur d'un vieux village. La maison est entourée d'un jardin avec une barrière ; il y a des concombres, des choux frisés, toutes sortes de légumes. Au fond du jardin, le portillon reste toujours fermé pour que Chien à Puces ne s'échappe pas. Chien à Puces aime se coucher près de la poubelle, à l'ombre d'un oranger couvert de fruits délicieux. Chien à Puces est gourmand, il croque tout ce qui lui passe sous la dent : des oranges pourries qui tombent sur le sol, des fleurs fanées, un morceau de buvard...\n",
      " Un jour, Monsieur Petit décide de mettre Chien à Puces dans une niche. Chien à Puces n'aime pas être enfermé, il préfère s'endormir en regardant les étoiles dans le ciel. Toutes les nuits, il aboie quand Monsieur Petit va se coucher. Monsieur Petit décide de dormir dans le grenier de sa jolie maison pour prendre un peu de repos. \n",
      " Il ne trouve plus le sommeil ! Une nuit d'insomnie, hop ! Il saute du lit et ouvre la grande malle qui se trouve devant lui, dans un coin sombre du grenier. Et là, surprise, toute sa vie, qu'il pensait sans histoire, lui revient en mémoire : \n",
      " il sort les mouchoirs brodés par sa grand-mère, ses petites dents de lait, son pot de chambre ébréché, une tête de poisson séché, un sac plein de billes, une montre qui fait tic, tac, tic, tac, son carnet de notes, un bout de lacet, son vieux transistor à pile. C'est fou comme tous ces souvenirs se bousculent dans sa tête et il ne peut retenir ses larmes d'émotion, sa vie n'est pas sans histoire. Il se souvient exactement de la voix du présentateur météo : « Le temps va s'améliorer demain en début de matinée sur notre région, ciel chargé, l'après-midi », il se rappelle les vieilles publicités : « AMA et la saleté s'en va », « On a toujours besoin de petits pois chez soi ». \n",
      " Les premières lumières du jour pénètrent par la petite fenêtre du grenier. Il est au coeur de ses souvenirs, quand son réveil sonne : dring, dring, dring.\n"
     ]
    }
   ],
   "source": [
    "test = data_cleaned[data_cleaned['id'] == test_id]['testParameters'].values[0]\n",
    "\n",
    "# Convert string to dictionary safely\n",
    "test_dict = ast.literal_eval(test)\n",
    "\n",
    "# Now access 'textSelected' -> 'text'\n",
    "selected_text = test_dict['textSelected']['text']"
   ]
  },
  {
   "cell_type": "code",
   "execution_count": 5,
   "metadata": {},
   "outputs": [
    {
     "name": "stdout",
     "output_type": "stream",
     "text": [
      "Phonetic transcription saved to transcriptions/test_phonetic_transcriptions.csv\n"
     ]
    }
   ],
   "source": [
    "save_phonetic_transcription_to_csv(selected_text)"
   ]
  }
 ],
 "metadata": {
  "kernelspec": {
   "display_name": "project",
   "language": "python",
   "name": "python3"
  },
  "language_info": {
   "codemirror_mode": {
    "name": "ipython",
    "version": 3
   },
   "file_extension": ".py",
   "mimetype": "text/x-python",
   "name": "python",
   "nbconvert_exporter": "python",
   "pygments_lexer": "ipython3",
   "version": "3.10.16"
  }
 },
 "nbformat": 4,
 "nbformat_minor": 2
}
