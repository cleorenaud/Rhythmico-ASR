{
 "cells": [
  {
   "cell_type": "code",
   "execution_count": 1,
   "metadata": {},
   "outputs": [],
   "source": [
    "import torch\n",
    "from transformers import AutoModelForCTC, Wav2Vec2Processor\n",
    "import soundfile as sf\n",
    "import numpy as np\n",
    "import os\n",
    "import pandas as pd"
   ]
  },
  {
   "cell_type": "code",
   "execution_count": 2,
   "metadata": {},
   "outputs": [],
   "source": [
    "# Initialize the model and processor\n",
    "MODEL_ID = \"Cnam-LMSSC/wav2vec2-french-phonemizer\"\n",
    "model = AutoModelForCTC.from_pretrained(MODEL_ID)\n",
    "processor = Wav2Vec2Processor.from_pretrained(MODEL_ID)"
   ]
  },
  {
   "cell_type": "code",
   "execution_count": 3,
   "metadata": {},
   "outputs": [],
   "source": [
    "\n",
    "# Folder containing the audio files\n",
    "audio_folder = 'converted_wav_files/'\n",
    "\n",
    "# List all the .wav files in the folder\n",
    "audio_files = [f for f in os.listdir(audio_folder) if f.endswith('.wav')]\n",
    "\n",
    "# Initialize an empty list to store the results\n",
    "transcriptions = []\n",
    "\n",
    "# Process each file\n",
    "for audio_file in audio_files:\n",
    "    # Load the audio file\n",
    "    audio_path = os.path.join(audio_folder, audio_file)\n",
    "    audio, _ = sf.read(audio_path)\n",
    "    \n",
    "    # Preprocess the audio and prepare the inputs for the model\n",
    "    inputs = processor(np.array(audio), sampling_rate=16_000., return_tensors=\"pt\")\n",
    "    \n",
    "    # Get the model's predictions\n",
    "    with torch.no_grad():\n",
    "        logits = model(**inputs).logits\n",
    "\n",
    "    # Decode the predictions to get the phonetic transcription\n",
    "    predicted_ids = torch.argmax(logits, dim=-1)\n",
    "    transcription = processor.batch_decode(predicted_ids)[0]\n",
    "    \n",
    "    # Store the result (file name and transcription)\n",
    "    transcriptions.append([audio_file, transcription])"
   ]
  },
  {
   "cell_type": "code",
   "execution_count": 4,
   "metadata": {},
   "outputs": [
    {
     "name": "stdout",
     "output_type": "stream",
     "text": [
      "                            File Name  \\\n",
      "0  readingTestFluencE_2_converted.wav   \n",
      "1  readingTestFluencE_6_converted.wav   \n",
      "2  readingTestFluencE_1_converted.wav   \n",
      "3  readingTestFluencE_5_converted.wav   \n",
      "4  readingTestFluencE_8_converted.wav   \n",
      "5  readingTestFluencE_9_converted.wav   \n",
      "6  readingTestFluencE_4_converted.wav   \n",
      "7  readingTestFluencE_0_converted.wav   \n",
      "8  readingTestFluencE_7_converted.wav   \n",
      "9  readingTestFluencE_3_converted.wav   \n",
      "\n",
      "                              Phonetic Transcription  \n",
      "0  listwaʁ dœ̃ məsø pətitivi dɑ̃ levɛj de mɛzɔ̃sy...  \n",
      "1  se istwaʁ də lydy dətitivi dɑ̃ yzjœvɛzɔ̃ sitye...  \n",
      "2  filistwa dəlii pəti iʁy kii dɑsilɛ lizɔ̃ styi ...  \n",
      "3  sɛ listwaʁ də məsøpətikib dɑ̃z yn vjɛj mɛzɔ̃ s...  \n",
      "4  sez istwa də məsø pəti kivi dɑ̃z yn jɛ mɛzɔ̃ s...  \n",
      "5  se listwaʁ də məsi pətiti dɔ̃ il leɔ̃ sity e o...  \n",
      "6  sə listwaʁ də məsø pəti ki vi dɑ̃z yn vjɛ mɛzɔ...  \n",
      "7  filistwa dəlii pəti iʁy kii dɑsilɛ lizɔ̃ styi ...  \n",
      "8  sɛt istwa də lɔse pətiti f dɔ̃y fe mzɔ̃sitye o...  \n",
      "9  sɛ listwaʁ daməsø pəti tivi dɑ ynvemɛzɔ̃ sitye...  \n"
     ]
    }
   ],
   "source": [
    "# Convert the list of results into a DataFrame\n",
    "df = pd.DataFrame(transcriptions, columns=['File Name', 'Phonetic Transcription'])\n",
    "\n",
    "# Print the DataFrame or save it as needed\n",
    "print(df)\n",
    "\n",
    "# Save the DataFrame to a CSV file\n",
    "df.to_csv('converted_wav_files/phonetic_transcriptions.csv', index=False)"
   ]
  }
 ],
 "metadata": {
  "kernelspec": {
   "display_name": "project",
   "language": "python",
   "name": "python3"
  },
  "language_info": {
   "codemirror_mode": {
    "name": "ipython",
    "version": 3
   },
   "file_extension": ".py",
   "mimetype": "text/x-python",
   "name": "python",
   "nbconvert_exporter": "python",
   "pygments_lexer": "ipython3",
   "version": "3.10.16"
  }
 },
 "nbformat": 4,
 "nbformat_minor": 2
}
